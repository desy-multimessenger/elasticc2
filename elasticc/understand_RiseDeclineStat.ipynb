{
 "cells": [
  {
   "cell_type": "markdown",
   "id": "75de3caa",
   "metadata": {},
   "source": [
    "Visualize output from TabulatorRiseDeclineStat"
   ]
  },
  {
   "cell_type": "code",
   "execution_count": null,
   "id": "1da05dc7",
   "metadata": {},
   "outputs": [],
   "source": [
    "import pandas as pd\n",
    "import matplotlib.pyplot as plt\n",
    "import numpy as np\n",
    "import seaborn as sns"
   ]
  },
  {
   "cell_type": "code",
   "execution_count": null,
   "id": "9abc6508",
   "metadata": {},
   "outputs": [],
   "source": [
    "df = pd.read_csv('/home/jnordin/tmp/TransientTable.csv')"
   ]
  },
  {
   "cell_type": "code",
   "execution_count": null,
   "id": "c2e2e58f",
   "metadata": {},
   "outputs": [],
   "source": [
    "df.columns"
   ]
  },
  {
   "cell_type": "code",
   "execution_count": null,
   "id": "7152c9ed",
   "metadata": {},
   "outputs": [],
   "source": [
    "df = df.drop(columns=['Unnamed: 0', 'channels', 'sim_model_index'])\n",
    "# sntype and sim_type_index are different, no idea \n",
    "# t_predetect are all null here, so skip for now. "
   ]
  },
  {
   "cell_type": "markdown",
   "id": "a9303bdd",
   "metadata": {},
   "source": [
    "#### 1. Extract redshift information"
   ]
  },
  {
   "cell_type": "code",
   "execution_count": null,
   "id": "bdca5a97",
   "metadata": {},
   "outputs": [],
   "source": [
    "# First we divide df into two parts\n",
    "# one with z_source in ['HOSTGAL2_ZQUANT', 'HOSTGAL_ZQUANT', 'HOSTGAL_ZSPEC']\n",
    "# where we can extract redshift information\n",
    "iGal = df['z_source'].isin(['HOSTGAL2_ZQUANT', 'HOSTGAL_ZQUANT', 'HOSTGAL_ZSPEC'])\n",
    "df_gal = df[iGal]\n",
    "df_nogal = df[~iGal]"
   ]
  },
  {
   "cell_type": "code",
   "execution_count": null,
   "id": "ecfd3bab",
   "metadata": {},
   "outputs": [],
   "source": [
    "df_nogal['z'] = None\n",
    "df_nogal['z_err'] = None\n",
    "df_nogal = df_nogal.drop(columns=['z_source', 'z_samples', 'z_weights'])"
   ]
  },
  {
   "cell_type": "code",
   "execution_count": null,
   "id": "6830d138",
   "metadata": {},
   "outputs": [],
   "source": [
    "df_nogal = df_nogal.drop_duplicates()"
   ]
  },
  {
   "cell_type": "code",
   "execution_count": null,
   "id": "56a7366d",
   "metadata": {},
   "outputs": [],
   "source": [
    "df_gal['z'] = df_gal['z_samples'].str.extract(r',\\s+(\\d+.\\d+),').astype(float)"
   ]
  },
  {
   "cell_type": "code",
   "execution_count": null,
   "id": "91a84fdc",
   "metadata": {},
   "outputs": [],
   "source": [
    "df_gal['z_err'] = df_gal['z_samples'].str.extract(r'\\((\\d+.\\d+),').astype(float)"
   ]
  },
  {
   "cell_type": "code",
   "execution_count": null,
   "id": "a4bef1fa",
   "metadata": {},
   "outputs": [],
   "source": [
    "df_gal['z_err'] = df_gal['z']-df_gal['z_err']"
   ]
  },
  {
   "cell_type": "code",
   "execution_count": null,
   "id": "f8718394",
   "metadata": {},
   "outputs": [],
   "source": [
    "df_gal = df_gal.drop(columns=['z_source', 'z_samples', 'z_weights'])"
   ]
  },
  {
   "cell_type": "code",
   "execution_count": null,
   "id": "f55e594e",
   "metadata": {},
   "outputs": [],
   "source": [
    "df_gal = df_gal.drop_duplicates()"
   ]
  },
  {
   "cell_type": "code",
   "execution_count": null,
   "id": "a28f886e",
   "metadata": {},
   "outputs": [],
   "source": [
    "df_all = pd.concat([df_gal, df_nogal])"
   ]
  },
  {
   "cell_type": "markdown",
   "id": "3cdd704a",
   "metadata": {},
   "source": [
    "### 2. Checck for  duplicates \n",
    "Meaning rows of the same transient with the same ndet but different other values. \n",
    "\n",
    "Remaining duplicates seem to be \"true\", meaning multiple alerts from the same transients that produce the same features. Happens if the latest detection has a weak signififance and does not contribute.\n",
    "\n"
   ]
  },
  {
   "cell_type": "code",
   "execution_count": null,
   "id": "b96198d1",
   "metadata": {},
   "outputs": [],
   "source": [
    "# Dont do it, not used and takes a lot of time\n",
    "# df_dup  = pd.concat(g for _, g in df_all.groupby([\"ndet\",\"stock\",\"mag_det\", \"mag_last\"]) if len(g) > 1)"
   ]
  },
  {
   "cell_type": "markdown",
   "id": "3c6e0557",
   "metadata": {},
   "source": [
    "### 3. Correct magnitudes for false zeropoints (skip once corrected)."
   ]
  },
  {
   "cell_type": "code",
   "execution_count": null,
   "id": "87a8c3a8",
   "metadata": {},
   "outputs": [],
   "source": [
    "# These should all not be used once we have a corrected data run\n",
    "df_all['mag_det'] += 2.5\n",
    "df_all['mag_last'] += 2.5\n",
    "df_all['t_predetect'] = df_all['jd_det'] - df_all['t_predetect']\n",
    "# Probably something in the above does not work, yielding nonsense answers. \n",
    "df_all['t_predetect'][ np.abs(df_all['t_predetect'])>999 ] = None"
   ]
  },
  {
   "cell_type": "markdown",
   "id": "71b3f12d",
   "metadata": {},
   "source": [
    "### 4. Inspect columns "
   ]
  },
  {
   "cell_type": "code",
   "execution_count": null,
   "id": "185a909f",
   "metadata": {},
   "outputs": [],
   "source": [
    "df_all"
   ]
  },
  {
   "cell_type": "code",
   "execution_count": null,
   "id": "f37a808c",
   "metadata": {},
   "outputs": [],
   "source": [
    "df_all['sntype'].plot.hist()"
   ]
  },
  {
   "cell_type": "code",
   "execution_count": null,
   "id": "97edc344",
   "metadata": {},
   "outputs": [],
   "source": [
    "df_all['ndet'].plot.hist(bins=50)"
   ]
  },
  {
   "cell_type": "code",
   "execution_count": null,
   "id": "e2ed0993",
   "metadata": {},
   "outputs": [],
   "source": [
    "# Temporary pause?\n",
    "#df_all.to_csv('/home/jnordin/tmp/elasticcRiseDecline_v5.csv')\n",
    "#df_all = pd.read_csv('/home/jnordin/tmp/elasticcRiseDecline_v5.csv')"
   ]
  },
  {
   "cell_type": "markdown",
   "id": "e45a74b6",
   "metadata": {},
   "source": [
    "One thing we do want to find out is how many detections we typically have for each source. Asking since the ones with only a few detection can be kept out of parsnip."
   ]
  },
  {
   "cell_type": "code",
   "execution_count": null,
   "id": "7c9d0b35",
   "metadata": {},
   "outputs": [],
   "source": [
    "plt.figure(1,figsize=(12,12))\n",
    "sns.histplot(df_all, x='ndet', hue='sim_type_index', hue_norm=(10,95), palette='viridis')"
   ]
  },
  {
   "cell_type": "code",
   "execution_count": null,
   "id": "f8337717",
   "metadata": {},
   "outputs": [],
   "source": [
    "for eachtype in set(df_all['sim_type_index']):\n",
    "    dets = df_all['ndet'][df_all['sim_type_index']==eachtype]\n",
    "    print(eachtype, np.min(dets), np.mean(dets), np.median(dets), np.max(dets))\n",
    "    if np.mean(dets)<5:\n",
    "        plt.figure()\n",
    "        plt.title(eachtype)\n",
    "        plt.hist(dets,bins=20)"
   ]
  },
  {
   "cell_type": "markdown",
   "id": "540098ef",
   "metadata": {},
   "source": [
    "### Quick study on some subset"
   ]
  },
  {
   "cell_type": "code",
   "execution_count": null,
   "id": "ea65fbb0",
   "metadata": {},
   "outputs": [],
   "source": [
    "ndet = 10"
   ]
  },
  {
   "cell_type": "code",
   "execution_count": null,
   "id": "450a0791",
   "metadata": {},
   "outputs": [],
   "source": [
    "df_det = df_all[df_all['ndet']==ndet]"
   ]
  },
  {
   "cell_type": "code",
   "execution_count": null,
   "id": "882c670a",
   "metadata": {},
   "outputs": [],
   "source": [
    "df_det.shape"
   ]
  },
  {
   "cell_type": "code",
   "execution_count": null,
   "id": "1aab8c1c",
   "metadata": {},
   "outputs": [],
   "source": [
    "# Remove some columns not of immediate use\n",
    "df_det = df_det.drop(columns=['ndet', 'success', 'sim_peakmjd', 'stock'])"
   ]
  },
  {
   "cell_type": "code",
   "execution_count": null,
   "id": "96b30ffa",
   "metadata": {},
   "outputs": [],
   "source": [
    "# Uneven sample size\n",
    "df_det['sim_type_index'].hist()"
   ]
  },
  {
   "cell_type": "code",
   "execution_count": null,
   "id": "49028120",
   "metadata": {},
   "outputs": [],
   "source": [
    "# Types from \n",
    "# https://github.com/LSSTDESC/elasticc/blob/main/alert_schema/elasticc_origmap.txt"
   ]
  },
  {
   "cell_type": "code",
   "execution_count": null,
   "id": "3c05a00d",
   "metadata": {},
   "outputs": [],
   "source": [
    "df_det['t_predetect']"
   ]
  },
  {
   "cell_type": "code",
   "execution_count": null,
   "id": "81dd0c03",
   "metadata": {},
   "outputs": [],
   "source": [
    "plt.figure(1,figsize=(12,12))\n",
    "sns.histplot(df_det, x='t_predetect', hue='sim_type_index', hue_norm=(10,95), palette='viridis')"
   ]
  },
  {
   "cell_type": "code",
   "execution_count": null,
   "id": "b6fd9431",
   "metadata": {},
   "outputs": [],
   "source": [
    "plt.figure(2,figsize=(12,10))\n",
    "sns.histplot(d_det, x='mag_det', hue='sim_type_index', hue_norm=(10,95), palette='viridis', cumulative=True)"
   ]
  },
  {
   "cell_type": "code",
   "execution_count": null,
   "id": "3e3e5980",
   "metadata": {},
   "outputs": [],
   "source": [
    "plt.figure(2,figsize=(12,10))\n",
    "sns.histplot(d_det, x='t_lc', hue='sim_type_index', hue_norm=(10,95), palette='viridis', cumulative=False)"
   ]
  },
  {
   "cell_type": "code",
   "execution_count": null,
   "id": "ec6c44e3",
   "metadata": {},
   "outputs": [],
   "source": [
    "plt.figure(4,figsize=(12,10))\n",
    "sns.histplot(d_det, x='t_rise', hue='sim_type_index', hue_norm=(10,95), palette='magma', cumulative=False)"
   ]
  },
  {
   "cell_type": "code",
   "execution_count": null,
   "id": "e85b9ca8",
   "metadata": {},
   "outputs": [],
   "source": [
    "plt.figure(4,figsize=(12,5))\n",
    "sns.histplot(d_det, x='t_fall', hue='sim_type_index', hue_norm=(10,95), palette='magma', cumulative=False)"
   ]
  },
  {
   "cell_type": "code",
   "execution_count": null,
   "id": "b533524e",
   "metadata": {},
   "outputs": [],
   "source": [
    "d_det.columns"
   ]
  },
  {
   "cell_type": "code",
   "execution_count": null,
   "id": "00aaa2fc",
   "metadata": {},
   "outputs": [],
   "source": [
    "plt.figure(6,figsize=(12,10))\n",
    "sns.histplot(d_det, x='host_sep', hue='sim_type_index', hue_norm=(10,95), palette='viridis', cumulative=False)"
   ]
  },
  {
   "cell_type": "code",
   "execution_count": null,
   "id": "2dc6567e",
   "metadata": {},
   "outputs": [],
   "source": [
    "band = 'u'"
   ]
  },
  {
   "cell_type": "code",
   "execution_count": null,
   "id": "bfcc8f5d",
   "metadata": {},
   "outputs": [],
   "source": [
    "plt.figure(10,figsize=(12,5))\n",
    "sns.histplot(d_det, x='rise_slope_lsst'+band, hue='sim_type_index', hue_norm=(10,95), palette='viridis', cumulative=False)"
   ]
  },
  {
   "cell_type": "code",
   "execution_count": null,
   "id": "235a6780",
   "metadata": {},
   "outputs": [],
   "source": [
    "plt.figure(11,figsize=(12,5))\n",
    "sns.histplot(d_det, x='rise_slopesig_lsst'+band, hue='sim_type_index', hue_norm=(10,95), palette='viridis', cumulative=False)"
   ]
  },
  {
   "cell_type": "code",
   "execution_count": null,
   "id": "9ae2ac39",
   "metadata": {},
   "outputs": [],
   "source": [
    "plt.figure(13,figsize=(12,5))\n",
    "sns.histplot(d_det, x='fall_slope_lsst'+band, hue='sim_type_index', hue_norm=(10,95), palette='viridis', cumulative=False)"
   ]
  },
  {
   "cell_type": "code",
   "execution_count": null,
   "id": "0a82dc5c",
   "metadata": {},
   "outputs": [],
   "source": [
    "plt.figure(14,figsize=(12,5))\n",
    "sns.histplot(d_det, x='fall_slopesig_lsst'+band, hue='sim_type_index', hue_norm=(10,95), palette='viridis', cumulative=False)"
   ]
  },
  {
   "cell_type": "code",
   "execution_count": null,
   "id": "ddbd8737",
   "metadata": {},
   "outputs": [],
   "source": [
    "col = 'lsstu-lsstg'"
   ]
  },
  {
   "cell_type": "code",
   "execution_count": null,
   "id": "3715558f",
   "metadata": {},
   "outputs": [],
   "source": [
    "plt.figure(16,figsize=(12,5))\n",
    "sns.histplot(d_det, x=col+'_det', hue='sim_type_index', hue_norm=(10,95), palette='viridis', cumulative=False)"
   ]
  },
  {
   "cell_type": "code",
   "execution_count": null,
   "id": "369d3f5b",
   "metadata": {},
   "outputs": [],
   "source": [
    "plt.figure(16,figsize=(12,5))\n",
    "sns.histplot(d_det, x=col+'_peak', hue='sim_type_index', hue_norm=(10,95), palette='viridis', cumulative=False)"
   ]
  },
  {
   "cell_type": "code",
   "execution_count": null,
   "id": "bdf09e12",
   "metadata": {},
   "outputs": [],
   "source": [
    "plt.figure(17,figsize=(12,5))\n",
    "sns.histplot(d_det, x=col+'_last', hue='sim_type_index', hue_norm=(10,95), palette='viridis', cumulative=False)"
   ]
  },
  {
   "cell_type": "markdown",
   "id": "08ce8328",
   "metadata": {},
   "source": [
    "### Create a \"nice\" dataset for training"
   ]
  },
  {
   "cell_type": "code",
   "execution_count": null,
   "id": "0d294e52",
   "metadata": {},
   "outputs": [],
   "source": [
    "df_all = df_all.drop(columns=['success', 'sim_peakmjd', 'stock'])"
   ]
  },
  {
   "cell_type": "code",
   "execution_count": null,
   "id": "bde4a4d1",
   "metadata": {},
   "outputs": [],
   "source": [
    "df_all.columns"
   ]
  },
  {
   "cell_type": "code",
   "execution_count": null,
   "id": "6849dd46",
   "metadata": {},
   "outputs": [],
   "source": [
    "bandval = {'lsstu':1, 'lsstg':2, 'lsstr':4, 'lssti':8, 'lsstz':16, 'lssty':32}"
   ]
  },
  {
   "cell_type": "code",
   "execution_count": null,
   "id": "73d10b5c",
   "metadata": {},
   "outputs": [],
   "source": [
    "c = 9"
   ]
  },
  {
   "cell_type": "code",
   "execution_count": null,
   "id": "37f19276",
   "metadata": {},
   "outputs": [],
   "source": [
    "set(df_all[df_all.columns[c]])"
   ]
  },
  {
   "cell_type": "code",
   "execution_count": null,
   "id": "1520e5f1",
   "metadata": {},
   "outputs": [],
   "source": [
    "plt.hist(df_all[df_all.columns[c]])\n",
    "plt.xlabel(df_all.columns[c])"
   ]
  },
  {
   "cell_type": "code",
   "execution_count": null,
   "id": "46e68099",
   "metadata": {},
   "outputs": [],
   "source": [
    "df_all['band_det_id'] = df_all['band_det'].apply(bandval.get)"
   ]
  },
  {
   "cell_type": "code",
   "execution_count": null,
   "id": "83f5e198",
   "metadata": {},
   "outputs": [],
   "source": [
    "df_all['band_last_id'] = df_all['band_last'].apply(bandval.get)"
   ]
  },
  {
   "cell_type": "code",
   "execution_count": null,
   "id": "c8d4a4ea",
   "metadata": {},
   "outputs": [],
   "source": [
    "df_all = df_all.drop(columns=['band_det', 'band_last'])"
   ]
  },
  {
   "cell_type": "code",
   "execution_count": null,
   "id": "f23f7023",
   "metadata": {},
   "outputs": [],
   "source": [
    "df_all = df_all.drop(columns=['sntype'])"
   ]
  },
  {
   "cell_type": "code",
   "execution_count": null,
   "id": "7e218219",
   "metadata": {},
   "outputs": [],
   "source": [
    "df_all.columns"
   ]
  },
  {
   "cell_type": "code",
   "execution_count": null,
   "id": "923bc640",
   "metadata": {},
   "outputs": [],
   "source": [
    "# Define a first courser class, corresponding to rough \n",
    "sim_to_class = {\n",
    "10:  111, #      SNIa-SALT2   \n",
    " 11: 115, #      SNIa-91bg    \n",
    " 12: 114, #      SNIax        \n",
    "\n",
    " 20: 112, #      SNIb-Templates    \n",
    " 21: 112, #      SNIb+HostXT_V19   112\n",
    " 25: 112, #      SNIc-Templates    112\n",
    " 26: 112, #      SNIc+HostXT_V19   112\n",
    " 27: 112, #      SNIcBL+HostXT_V19 112\n",
    "\n",
    " 30: 113, #      SNII-NMF          113\n",
    " 31: 113, #      SNII-Templates    113\n",
    " 32: 113, #      SNII+HostXT_V19   113\n",
    " 35: 113, #      SNIIn-MOSFIT      113\n",
    " 36: 113, #      SNIIn+HostXT_V19  113\n",
    " 37: 113, #      SNIIb+HostXT_V19  113\n",
    "\n",
    " 40: 131, #      SLSN-I+host       131\n",
    " 40: 131, #     SLSN-I_no_host    131\n",
    " 42: 132,  #     TDE               132\n",
    " 45: 133,  #      ILOT              133\n",
    " 46: 134,  #      CART              134\n",
    "    \n",
    " 50: 121,  #      KN_K17            121\n",
    " 51: 121,  #      KN_B19            121\n",
    " 59: 135,  #      PISN              135\n",
    "\n",
    " 60: 221,  #      AGN               221\n",
    "\n",
    " 80: 212,  #      RRL               212\n",
    " 82: 122,  #      Mdwarf-flare      122\n",
    " 83: 214,  #      EB                214\n",
    " 84: 123,  #      dwarf-nova        123\n",
    " 87: 124,  #      uLens-Single_PyLIMA 124\n",
    " 88: 124,  #      uLens-Single-GenLens 124\n",
    " 89: 124,  #      uLens-Binary            124\n",
    " 90: 211,  #      Cepheid              211\n",
    " 91: 213,  #      d-Sct              213\n",
    "}"
   ]
  },
  {
   "cell_type": "code",
   "execution_count": null,
   "id": "4e9e0b0a",
   "metadata": {},
   "outputs": [],
   "source": [
    "def shorten(inclass):\n",
    "    foo = str(inclass)\n",
    "    return int(foo[0:-1])"
   ]
  },
  {
   "cell_type": "code",
   "execution_count": null,
   "id": "24235090",
   "metadata": {},
   "outputs": [],
   "source": [
    "df_all['class_full'] = df_all['sim_type_index'].apply(sim_to_class.get)"
   ]
  },
  {
   "cell_type": "code",
   "execution_count": null,
   "id": "0fbdfb85",
   "metadata": {},
   "outputs": [],
   "source": [
    "df_all['class_intermediate'] = df_all['class_full'].apply(shorten)"
   ]
  },
  {
   "cell_type": "code",
   "execution_count": null,
   "id": "f6e74776",
   "metadata": {},
   "outputs": [],
   "source": [
    "df_all['class_short'] = df_all['class_intermediate'].apply(shorten)"
   ]
  },
  {
   "cell_type": "code",
   "execution_count": null,
   "id": "9e74b1f4",
   "metadata": {},
   "outputs": [],
   "source": [
    "# Finally, we do a mix class where we specifically take what we think might work\n",
    "# for parsnip\n",
    "class_to_parsnip = {\n",
    "    110: 1,    # Extragalactic transients with decent lc length\n",
    "    111: 1,\n",
    "    112: 1,\n",
    "    113: 1,\n",
    "    114: 1,\n",
    "    115: 1,\n",
    "    131: 1,\n",
    "    132: 1,\n",
    "    133: 1,\n",
    "    134: 1,\n",
    "    135: 1,\n",
    "    121: 2,     # Extragalacti transients too fast to see with lsst cadence\n",
    "    122: 3,     # Galactic transients\n",
    "    123: 3,     \n",
    "    124: 3,     \n",
    "    211: 4,     # Galactic repeaters\n",
    "    212: 4,     \n",
    "    213: 4,     \n",
    "    214: 4,     \n",
    "    215: 4,     \n",
    "    221: 5,      # Extragalactic repeaters     \n",
    "}"
   ]
  },
  {
   "cell_type": "code",
   "execution_count": null,
   "id": "20e9e964",
   "metadata": {},
   "outputs": [],
   "source": [
    "df_all['class_parsnip'] = df_all['class_full'].apply(class_to_parsnip.get)"
   ]
  },
  {
   "cell_type": "code",
   "execution_count": null,
   "id": "4b0e2cfc",
   "metadata": {},
   "outputs": [],
   "source": [
    "plt.hist(df_all['class_parsnip'])"
   ]
  },
  {
   "cell_type": "code",
   "execution_count": null,
   "id": "9ebeac7f",
   "metadata": {},
   "outputs": [],
   "source": [
    "# A version of the above where we assume a series of classifiers\n",
    "# Idea will be to first compare {1,2,3} w 4 then\n",
    "# {1,2} - 3\n",
    "# 1 vs 2\n",
    "# \n",
    "class_to_stepwise = {\n",
    "    110: 1,    # Extragalactic transients with decent lc length\n",
    "    111: 1,\n",
    "    112: 1,\n",
    "    113: 1,\n",
    "    114: 1,\n",
    "    115: 1,\n",
    "    131: 1,\n",
    "    132: 1,\n",
    "    133: 1,\n",
    "    134: 1,\n",
    "    135: 1,\n",
    "    124: 2,    # Mikrolenses, where fit fails\n",
    "    121: 3,    # Extragalacti transients too fast to see with lsst cadence\n",
    "    122: 3,    \n",
    "    123: 3,    # These are the dwarf nova, could go both ways, or go to 4 \n",
    "    211: 4,     # Galactic repeaters\n",
    "    212: 4,     \n",
    "    213: 4,     \n",
    "    214: 4,     \n",
    "    215: 4,     \n",
    "    221: 4,      # Extragalactic repeaters     \n",
    "}"
   ]
  },
  {
   "cell_type": "code",
   "execution_count": null,
   "id": "9b83e1c6",
   "metadata": {},
   "outputs": [],
   "source": [
    "df_all['class_aggregate'] = df_all['class_full'].apply(class_to_stepwise.get)"
   ]
  },
  {
   "cell_type": "code",
   "execution_count": null,
   "id": "85826481",
   "metadata": {},
   "outputs": [],
   "source": [
    "plt.hist(df_all['class_aggregate'])"
   ]
  },
  {
   "cell_type": "code",
   "execution_count": null,
   "id": "a8dc8b70",
   "metadata": {},
   "outputs": [],
   "source": [
    "# Should do this already in prep notebook\n",
    "for c in ['bool_rise', 'bool_fall', 'bool_peaked', 'bool_pure',\n",
    "       'bool_fastrise', 'bool_fastfall', 'bool_hasgaps']:\n",
    "    df_all[c] = df_all[c].astype(bool)"
   ]
  },
  {
   "cell_type": "code",
   "execution_count": null,
   "id": "7c924fd7",
   "metadata": {},
   "outputs": [],
   "source": [
    "# Now we can drop the original weird classificaiton\n",
    "df_all = df_all.drop(columns=['sim_type_index'])"
   ]
  },
  {
   "cell_type": "code",
   "execution_count": null,
   "id": "5693510c",
   "metadata": {},
   "outputs": [],
   "source": [
    "df_all.to_csv('/home/jnordin/tmp/elasticc_feature_trainingset.csv')"
   ]
  }
 ],
 "metadata": {
  "kernelspec": {
   "display_name": "Python 3 (ipykernel)",
   "language": "python",
   "name": "python3"
  },
  "language_info": {
   "codemirror_mode": {
    "name": "ipython",
    "version": 3
   },
   "file_extension": ".py",
   "mimetype": "text/x-python",
   "name": "python",
   "nbconvert_exporter": "python",
   "pygments_lexer": "ipython3",
   "version": "3.9.12"
  }
 },
 "nbformat": 4,
 "nbformat_minor": 5
}
