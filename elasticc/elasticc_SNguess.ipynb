{
 "cells": [
  {
   "cell_type": "markdown",
   "id": "1bc8af9f",
   "metadata": {},
   "source": [
    "First test for redoing something like SNguess based on the Elasticc TabulatedRiseDecline features. "
   ]
  },
  {
   "cell_type": "code",
   "execution_count": null,
   "id": "22e5b5f6",
   "metadata": {},
   "outputs": [],
   "source": [
    "import pandas as pd\n",
    "import matplotlib.pyplot as plt\n",
    "import numpy as np\n",
    "from sklearn.model_selection import RandomizedSearchCV, StratifiedKFold\n",
    "from sklearn import metrics\n",
    "import xgboost as xgb"
   ]
  },
  {
   "cell_type": "code",
   "execution_count": null,
   "id": "23ff4689",
   "metadata": {},
   "outputs": [],
   "source": [
    "df = pd.read_csv('/home/jnordin/tmp/elasticc_feature_trainingset.csv')"
   ]
  },
  {
   "cell_type": "code",
   "execution_count": null,
   "id": "ed40f640",
   "metadata": {},
   "outputs": [],
   "source": [
    "# Should do this already in prep notebook\n",
    "for c in ['bool_rise', 'bool_fall', 'bool_peaked', 'bool_pure',\n",
    "       'bool_fastrise', 'bool_fastfall', 'bool_hasgaps']:\n",
    "    df[c] = df[c].astype(bool)"
   ]
  },
  {
   "cell_type": "code",
   "execution_count": null,
   "id": "efb88e24",
   "metadata": {},
   "outputs": [],
   "source": [
    "df.columns"
   ]
  },
  {
   "cell_type": "code",
   "execution_count": null,
   "id": "42819fdf",
   "metadata": {},
   "outputs": [],
   "source": [
    "_ = plt.hist( df['ndet'], bins=30 )"
   ]
  },
  {
   "cell_type": "code",
   "execution_count": null,
   "id": "6e13ffcb",
   "metadata": {},
   "outputs": [],
   "source": [
    "# Suggested bins to use - actually look to have same number of entries in total?\n",
    "#detrange = [1,1]\n",
    "#detrange = [2,2]\n",
    "detrange = [3,4]\n",
    "#detrange = [5,6]\n",
    "#detrange = [7,9]\n",
    "#detrange = [10,14]\n",
    "#detrange = [15,20]\n",
    "#detrange = [21,30]\n",
    "#detrange = [31,50]\n",
    "#detrange = [51,75]\n",
    "#detrange = [76,110]\n",
    "#detrange = [111,200]"
   ]
  },
  {
   "cell_type": "code",
   "execution_count": null,
   "id": "682d0f98",
   "metadata": {},
   "outputs": [],
   "source": [
    "df_set = df[ (df['ndet']>=detrange[0]) & (df['ndet']<=detrange[1])]"
   ]
  },
  {
   "cell_type": "code",
   "execution_count": null,
   "id": "5a4ca89c",
   "metadata": {},
   "outputs": [],
   "source": [
    "df_set.class_aggregate"
   ]
  },
  {
   "cell_type": "code",
   "execution_count": null,
   "id": "42db9391",
   "metadata": {},
   "outputs": [],
   "source": [
    "# Which set of labels to use?\n",
    "#target = df_set.class_full\n",
    "#target = df_set.class_intermediate\n",
    "target = df_set.class_short - 1\n",
    "#target = df_set.class_parsnip\n",
    "\n",
    "# Or do the aggregate\n",
    "# First step\n",
    "#target = np.zeros(len(df_set))\n",
    "#target[ (df_set.class_aggregate<4) ]=1\n",
    "# Second step\n",
    "#df_set = df_set[ (df_set.class_aggregate<4) ]\n",
    "#target = np.zeros(len(df_set))\n",
    "#target[ (df_set.class_aggregate<3) ]=1\n",
    "# Third step\n",
    "#df_set = df_set[ (df_set.class_aggregate<3) ]\n",
    "#target = np.zeros(len(df_set))\n",
    "#target[ (df_set.class_aggregate<2) ]=1\n"
   ]
  },
  {
   "cell_type": "code",
   "execution_count": null,
   "id": "e4a4c41d",
   "metadata": {},
   "outputs": [],
   "source": [
    "# Which columsn to use for training\n",
    "use_cols = ['bool_rise', 'bool_fall', 'bool_peaked', 'bool_pure',\n",
    "       'bool_fastrise', 'bool_fastfall', 'bool_hasgaps', 'mag_det',\n",
    "       'mag_last', 'det_bands', 'peak_bands', 'last_bands', 't_predetect',\n",
    "       't_lc', 't_rise', 't_fall', 'rise_slope_lsstu',\n",
    "       'rise_slopesig_lsstu', 'fall_slope_lsstu', 'fall_slopesig_lsstu',\n",
    "       'rise_slope_lsstg', 'rise_slopesig_lsstg', 'fall_slope_lsstg',\n",
    "       'fall_slopesig_lsstg', 'rise_slope_lsstr', 'rise_slopesig_lsstr',\n",
    "       'fall_slope_lsstr', 'fall_slopesig_lsstr', 'rise_slope_lssti',\n",
    "       'rise_slopesig_lssti', 'fall_slope_lssti', 'fall_slopesig_lssti',\n",
    "       'rise_slope_lsstz', 'rise_slopesig_lsstz', 'fall_slope_lsstz',\n",
    "       'fall_slopesig_lsstz', 'rise_slope_lssty', 'rise_slopesig_lssty',\n",
    "       'fall_slope_lssty', 'fall_slopesig_lssty', 'lsstu-lsstg_det',\n",
    "       'lsstg-lsstr_det', 'lsstr-lssti_det', 'lssti-lsstz_det',\n",
    "       'lsstz-lssty_det', 'lsstu-lsstg_peak', 'lsstg-lsstr_peak',\n",
    "       'lsstr-lssti_peak', 'lssti-lsstz_peak', 'lsstz-lssty_peak',\n",
    "       'lsstu-lsstg_last', 'lsstg-lsstr_last', 'lsstr-lssti_last',\n",
    "       'lssti-lsstz_last', 'lsstz-lssty_last', 'host_sep', 'z', 'z_err',\n",
    "       'band_det_id', 'band_last_id']\n"
   ]
  },
  {
   "cell_type": "code",
   "execution_count": null,
   "id": "ebdae77c",
   "metadata": {},
   "outputs": [],
   "source": [
    "feats = df_set[use_cols]"
   ]
  },
  {
   "cell_type": "code",
   "execution_count": null,
   "id": "0005409e",
   "metadata": {},
   "outputs": [],
   "source": [
    "plt.hist(target)"
   ]
  },
  {
   "cell_type": "code",
   "execution_count": null,
   "id": "1e743954",
   "metadata": {},
   "outputs": [],
   "source": [
    "# Estimate scale_pos_weight to make up for class imbalance (negative_examples / positive_examples)\n",
    "scale_pos_weight = (len(target) - np.sum(target)) / np.sum(target)"
   ]
  },
  {
   "cell_type": "code",
   "execution_count": null,
   "id": "e59b706b",
   "metadata": {},
   "outputs": [],
   "source": [
    "scale_pos_weight"
   ]
  },
  {
   "cell_type": "code",
   "execution_count": null,
   "id": "59896db8",
   "metadata": {},
   "outputs": [],
   "source": [
    "model = xgb.XGBClassifier(\n",
    "    scale_pos_weight=scale_pos_weight,\n",
    "    use_label_encoder=False,\n",
    "    random_state=42,\n",
    "    objective='binary:logistic')"
   ]
  },
  {
   "cell_type": "code",
   "execution_count": null,
   "id": "27709a4b",
   "metadata": {},
   "outputs": [],
   "source": [
    "param_grid = {\n",
    "        'max_depth': [2, 3, 4, 5, 6, 7, 8, 9, 10, 11, 12],\n",
    "        'min_child_weight': np.arange(0.0001, 0.5, 0.001),\n",
    "        'gamma': np.arange(0.0,40.0,0.005),\n",
    "        'learning_rate': np.arange(0.0005,0.5,0.0005),\n",
    "        'subsample': np.arange(0.01,1.0,0.01),\n",
    "        'colsample_bylevel': np.round(np.arange(0.1,1.0,0.01)),\n",
    "        'colsample_bytree': np.arange(0.1,1.0,0.01),\n",
    "        }\n",
    "\n",
    "kfold = StratifiedKFold(\n",
    "    n_splits=5, \n",
    "    shuffle=True, \n",
    "    random_state=42)\n",
    "\n",
    "grid_search = RandomizedSearchCV(\n",
    "    model, \n",
    "    param_grid, \n",
    "    scoring=None, \n",
    "#     n_iter = 200,                                # Maximum number of iterations\n",
    "    n_iter = 1,\n",
    "    n_jobs=4, \n",
    "    cv=kfold, \n",
    "    random_state=42, \n",
    "    verbose=1, \n",
    "    error_score='raise')"
   ]
  },
  {
   "cell_type": "code",
   "execution_count": null,
   "id": "e7979f36",
   "metadata": {},
   "outputs": [],
   "source": [
    "grid_result = grid_search.fit(feats, target, eval_metric='aucpr')"
   ]
  },
  {
   "cell_type": "code",
   "execution_count": null,
   "id": "887619ae",
   "metadata": {},
   "outputs": [],
   "source": [
    "print(\"Best: %f using %s\" % (grid_result.best_score_, grid_result.best_params_))\n",
    "means = grid_result.cv_results_[ 'mean_test_score' ]\n",
    "stds = grid_result.cv_results_[ 'std_test_score' ]\n",
    "params = grid_result.cv_results_[ 'params' ]"
   ]
  },
  {
   "cell_type": "code",
   "execution_count": null,
   "id": "cba4353a",
   "metadata": {},
   "outputs": [],
   "source": [
    "best_estimator = grid_result.best_estimator_\n",
    "best_estimator"
   ]
  },
  {
   "cell_type": "code",
   "execution_count": null,
   "id": "a44cdf42",
   "metadata": {},
   "outputs": [],
   "source": [
    "print('Evaluating model on the whole training sample:')\n",
    "pred = best_estimator.predict(feats)\n",
    "precision = metrics.precision_score(target, pred)\n",
    "recall = metrics.recall_score(target, pred)\n",
    "aucpr = metrics.average_precision_score(target, pred)\n",
    "print(\"Precision: %.2f%%\" % (precision * 100.0))\n",
    "print(\"Recall: %.2f%%\" % (recall * 100.0))\n",
    "print(\"AUCPR: %.2f%%\" % (aucpr * 100.0))"
   ]
  },
  {
   "cell_type": "code",
   "execution_count": null,
   "id": "c65694f2",
   "metadata": {},
   "outputs": [],
   "source": [
    "plt.figure(figsize=(10,20))\n",
    "plt.barh(use_cols, best_estimator.feature_importances_)"
   ]
  },
  {
   "cell_type": "code",
   "execution_count": null,
   "id": "046cbffc",
   "metadata": {},
   "outputs": [],
   "source": []
  }
 ],
 "metadata": {
  "kernelspec": {
   "display_name": "Python 3 (ipykernel)",
   "language": "python",
   "name": "python3"
  },
  "language_info": {
   "codemirror_mode": {
    "name": "ipython",
    "version": 3
   },
   "file_extension": ".py",
   "mimetype": "text/x-python",
   "name": "python",
   "nbconvert_exporter": "python",
   "pygments_lexer": "ipython3",
   "version": "3.9.12"
  }
 },
 "nbformat": 4,
 "nbformat_minor": 5
}
