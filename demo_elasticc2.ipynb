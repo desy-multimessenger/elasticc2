{
 "cells": [
  {
   "cell_type": "code",
   "execution_count": null,
   "id": "000b50c0",
   "metadata": {},
   "outputs": [],
   "source": [
    "import os, logging\n",
    "from elasticc.trainmodel_elasticc2 import XgbModel"
   ]
  },
  {
   "cell_type": "code",
   "execution_count": null,
   "id": "b56d0dee",
   "metadata": {},
   "outputs": [],
   "source": [
    "logging.basicConfig()\n",
    "logger = logging.getLogger()\n",
    "logger.setLevel(logging.INFO)"
   ]
  },
  {
   "cell_type": "code",
   "execution_count": null,
   "id": "4c77eec9",
   "metadata": {},
   "outputs": [],
   "source": [
    "# Path to extracted features\n",
    "# These will already include subselection based on ndet, restrictions on alerts per object and train/validation split\n",
    "path_to_featurefiles = '/home/jnordin/data/elasticc2/trainset_all_max3'"
   ]
  },
  {
   "cell_type": "code",
   "execution_count": null,
   "id": "73046c26",
   "metadata": {},
   "outputs": [],
   "source": [
    "# Train classifer to distinguish SNe Ia (2222) from SNIbc and SNII (2223,224)\n",
    "# Using a subset of max 10000 rows from the feature filws\n",
    "pos_tax = [2222]\n",
    "neg_tax = [2223,2224]\n",
    "max_taxlength = 10000"
   ]
  },
  {
   "cell_type": "code",
   "execution_count": null,
   "id": "7ae6990e",
   "metadata": {},
   "outputs": [],
   "source": [
    "# Train classifer to distinguish AGN from periodic stars\n",
    "# Using a subset of max 10000 rows from the feature filws\n",
    "pos_tax = [2332]\n",
    "neg_tax = [2322,2323,2324,2325]\n",
    "max_taxlength = 10000"
   ]
  },
  {
   "cell_type": "code",
   "execution_count": null,
   "id": "eab738d4",
   "metadata": {},
   "outputs": [],
   "source": [
    "# Train classifier to distinguish KN from ... everything else\n",
    "pos_tax = [2232]\n",
    "neg_tax = [2222,2223,2224,2225,2226,2233,2234,2235,2242,2243,2244,2245,2246,2322,2323,2324,2325,2332]\n",
    "max_taxlength = 10000\n",
    "# To use files where alerts with more than 10 det have been removed uncomment below\n",
    "#path_to_featurefiles = '/home/jnordin/data/elasticc2/trainset_early_max10'"
   ]
  },
  {
   "cell_type": "code",
   "execution_count": null,
   "id": "8c81e1ea",
   "metadata": {},
   "outputs": [],
   "source": [
    "# Train classifier to separate recurrent from non-recurrent alerts using all alerts\n",
    "pos_tax = [2222,2223,2224,2225,2226,2232,2233,2234,2235,2242,2243,2244,2245,2246]\n",
    "neg_tax = [2322,2323,2324,2325,2332]\n",
    "max_taxlength = -1\n"
   ]
  },
  {
   "cell_type": "code",
   "execution_count": null,
   "id": "339f82b1",
   "metadata": {},
   "outputs": [],
   "source": [
    "# Train classifer to distinguish Cepheids from other periodic stars\n",
    "# Using a subset of max 10000 rows from the feature filws\n",
    "pos_tax = [2322]\n",
    "neg_tax = [2323,2324,2325]\n",
    "max_taxlength = 10000"
   ]
  },
  {
   "cell_type": "code",
   "execution_count": null,
   "id": "7c903083",
   "metadata": {},
   "outputs": [],
   "source": [
    "model = XgbModel(\n",
    "    pos_tax = pos_tax,\n",
    "    neg_tax = neg_tax,\n",
    "    path_to_featurefiles = path_to_featurefiles,\n",
    "    max_taxlength = max_taxlength\n",
    ")"
   ]
  },
  {
   "cell_type": "code",
   "execution_count": null,
   "id": "edb2de40",
   "metadata": {},
   "outputs": [],
   "source": [
    "model.train()"
   ]
  },
  {
   "cell_type": "code",
   "execution_count": null,
   "id": "9b2958c4",
   "metadata": {},
   "outputs": [],
   "source": [
    "model.evaluate()"
   ]
  }
 ],
 "metadata": {
  "kernelspec": {
   "display_name": "Python 3 (ipykernel)",
   "language": "python",
   "name": "python3"
  },
  "language_info": {
   "codemirror_mode": {
    "name": "ipython",
    "version": 3
   },
   "file_extension": ".py",
   "mimetype": "text/x-python",
   "name": "python",
   "nbconvert_exporter": "python",
   "pygments_lexer": "ipython3",
   "version": "3.10.11"
  }
 },
 "nbformat": 4,
 "nbformat_minor": 5
}
