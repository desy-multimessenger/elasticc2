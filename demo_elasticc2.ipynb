{
 "cells": [
  {
   "cell_type": "code",
   "execution_count": 1,
   "id": "000b50c0",
   "metadata": {},
   "outputs": [],
   "source": [
    "import os, logging\n",
    "from elasticc2.trainmodel_elasticc2 import XgbModel\n",
    "from pathlib import Path"
   ]
  },
  {
   "cell_type": "code",
   "execution_count": 2,
   "id": "b56d0dee",
   "metadata": {},
   "outputs": [],
   "source": [
    "logging.basicConfig()\n",
    "logger = logging.getLogger()\n",
    "logger.setLevel(logging.INFO)"
   ]
  },
  {
   "cell_type": "code",
   "execution_count": 11,
   "id": "4c77eec9",
   "metadata": {},
   "outputs": [
    {
     "name": "stdout",
     "output_type": "stream",
     "text": [
      "/Users/simeon/DESY/ELAsTiCC2/feature_extraction/trainset_all_max3\n"
     ]
    }
   ],
   "source": [
    "# Path to extracted features\n",
    "# These will already include subselection based on ndet, restrictions on alerts per object and train/validation split\n",
    "basedir = os.environ.get(\"ELASTICCDATA\")\n",
    "if basedir is None:\n",
    "    raise ValueError(\"Please set an environment-variable for 'ELASTICCDATA'\")\n",
    "path_to_featurefiles = Path(basedir) / \"feature_extraction\" / 'trainset_all_max3'\n",
    "print(path_to_featurefiles)"
   ]
  },
  {
   "cell_type": "code",
   "execution_count": 12,
   "id": "73046c26",
   "metadata": {},
   "outputs": [],
   "source": [
    "# Train classifer to distinguish SNe Ia (2222) from SNIbc and SNII (2223,224)\n",
    "# Using a subset of max 10000 rows from the feature filws\n",
    "pos_tax = [2222]\n",
    "neg_tax = [2223,2224]\n",
    "max_taxlength = 10000"
   ]
  },
  {
   "cell_type": "code",
   "execution_count": 13,
   "id": "7ae6990e",
   "metadata": {},
   "outputs": [],
   "source": [
    "# Train classifer to distinguish AGN from periodic stars\n",
    "# Using a subset of max 10000 rows from the feature filws\n",
    "pos_tax = [2332]\n",
    "neg_tax = [2322,2323,2324,2325]\n",
    "max_taxlength = 10000"
   ]
  },
  {
   "cell_type": "code",
   "execution_count": 14,
   "id": "eab738d4",
   "metadata": {},
   "outputs": [],
   "source": [
    "# Train classifier to distinguish KN from ... everything else\n",
    "pos_tax = [2232]\n",
    "neg_tax = [2222,2223,2224,2225,2226,2233,2234,2235,2242,2243,2244,2245,2246,2322,2323,2324,2325,2332]\n",
    "max_taxlength = 10000\n",
    "# To use files where alerts with more than 10 det have been removed uncomment below\n",
    "#path_to_featurefiles = '/home/jnordin/data/elasticc2/trainset_early_max10'"
   ]
  },
  {
   "cell_type": "code",
   "execution_count": 18,
   "id": "8c81e1ea",
   "metadata": {},
   "outputs": [],
   "source": [
    "# Train classifier to separate recurrent from non-recurrent alerts using all alerts\n",
    "pos_tax = [2222,2223,2224,2225,2226,2232,2233,2234,2235,2242,2243,2244,2245,2246]\n",
    "neg_tax = [2322,2323,2324,2325,2332]\n",
    "max_taxlength = -1\n"
   ]
  },
  {
   "cell_type": "code",
   "execution_count": 19,
   "id": "339f82b1",
   "metadata": {},
   "outputs": [],
   "source": [
    "# Train classifer to distinguish Cepheids from other periodic stars\n",
    "# Using a subset of max 10000 rows from the feature filws\n",
    "pos_tax = [2322]\n",
    "neg_tax = [2323,2324,2325]\n",
    "max_taxlength = 10000"
   ]
  },
  {
   "cell_type": "code",
   "execution_count": 21,
   "id": "7c903083",
   "metadata": {},
   "outputs": [
    {
     "ename": "AttributeError",
     "evalue": "'NoneType' object has no attribute 'columns'",
     "output_type": "error",
     "traceback": [
      "\u001b[0;31m---------------------------------------------------------------------------\u001b[0m",
      "\u001b[0;31mAttributeError\u001b[0m                            Traceback (most recent call last)",
      "Cell \u001b[0;32mIn[21], line 1\u001b[0m\n\u001b[0;32m----> 1\u001b[0m model \u001b[38;5;241m=\u001b[39m \u001b[43mXgbModel\u001b[49m\u001b[43m(\u001b[49m\n\u001b[1;32m      2\u001b[0m \u001b[43m    \u001b[49m\u001b[43mpos_tax\u001b[49m\u001b[43m \u001b[49m\u001b[38;5;241;43m=\u001b[39;49m\u001b[43m \u001b[49m\u001b[43mpos_tax\u001b[49m\u001b[43m,\u001b[49m\n\u001b[1;32m      3\u001b[0m \u001b[43m    \u001b[49m\u001b[43mneg_tax\u001b[49m\u001b[43m \u001b[49m\u001b[38;5;241;43m=\u001b[39;49m\u001b[43m \u001b[49m\u001b[43mneg_tax\u001b[49m\u001b[43m,\u001b[49m\n\u001b[1;32m      4\u001b[0m \u001b[43m    \u001b[49m\u001b[43mpath_to_featurefiles\u001b[49m\u001b[43m \u001b[49m\u001b[38;5;241;43m=\u001b[39;49m\u001b[43m \u001b[49m\u001b[43mpath_to_featurefiles\u001b[49m\u001b[43m,\u001b[49m\n\u001b[1;32m      5\u001b[0m \u001b[43m    \u001b[49m\u001b[43mmax_taxlength\u001b[49m\u001b[43m \u001b[49m\u001b[38;5;241;43m=\u001b[39;49m\u001b[43m \u001b[49m\u001b[43mmax_taxlength\u001b[49m\n\u001b[1;32m      6\u001b[0m \u001b[43m)\u001b[49m\n",
      "File \u001b[0;32m~/elasticc2/elasticc2/trainmodel_elasticc2.py:72\u001b[0m, in \u001b[0;36mXgbModel.__init__\u001b[0;34m(self, pos_tax, neg_tax, path_to_featurefiles, max_taxlength, n_iter, random_state, plotdir, grid_search_sample_size, cols_to_use)\u001b[0m\n\u001b[1;32m     69\u001b[0m     \u001b[38;5;28mself\u001b[39m\u001b[38;5;241m.\u001b[39mcols_to_use \u001b[38;5;241m=\u001b[39m cols_to_use\n\u001b[1;32m     70\u001b[0m \u001b[38;5;28;01melse\u001b[39;00m:\n\u001b[1;32m     71\u001b[0m     \u001b[38;5;66;03m# Use training data columns (except target) \u001b[39;00m\n\u001b[0;32m---> 72\u001b[0m     \u001b[38;5;28mself\u001b[39m\u001b[38;5;241m.\u001b[39mcols_to_use \u001b[38;5;241m=\u001b[39m \u001b[38;5;28mlist\u001b[39m(\u001b[38;5;28;43mself\u001b[39;49m\u001b[38;5;241;43m.\u001b[39;49m\u001b[43mdf_train\u001b[49m\u001b[38;5;241;43m.\u001b[39;49m\u001b[43mcolumns\u001b[49m)\n\u001b[1;32m     73\u001b[0m     \u001b[38;5;28mself\u001b[39m\u001b[38;5;241m.\u001b[39mcols_to_use\u001b[38;5;241m.\u001b[39mremove(\u001b[38;5;124m'\u001b[39m\u001b[38;5;124mtarget\u001b[39m\u001b[38;5;124m'\u001b[39m)\n",
      "\u001b[0;31mAttributeError\u001b[0m: 'NoneType' object has no attribute 'columns'"
     ]
    }
   ],
   "source": [
    "model = XgbModel(\n",
    "    pos_tax = pos_tax,\n",
    "    neg_tax = neg_tax,\n",
    "    path_to_featurefiles = path_to_featurefiles,\n",
    "    max_taxlength = max_taxlength\n",
    ")"
   ]
  },
  {
   "cell_type": "code",
   "execution_count": null,
   "id": "edb2de40",
   "metadata": {},
   "outputs": [],
   "source": [
    "model.train()"
   ]
  },
  {
   "cell_type": "code",
   "execution_count": null,
   "id": "9b2958c4",
   "metadata": {},
   "outputs": [],
   "source": [
    "model.evaluate()"
   ]
  }
 ],
 "metadata": {
  "kernelspec": {
   "display_name": "Python 3 (ipykernel)",
   "language": "python",
   "name": "python3"
  },
  "language_info": {
   "codemirror_mode": {
    "name": "ipython",
    "version": 3
   },
   "file_extension": ".py",
   "mimetype": "text/x-python",
   "name": "python",
   "nbconvert_exporter": "python",
   "pygments_lexer": "ipython3",
   "version": "3.11.3"
  }
 },
 "nbformat": 4,
 "nbformat_minor": 5
}
