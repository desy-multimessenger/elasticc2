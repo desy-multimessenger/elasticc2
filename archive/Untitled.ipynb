{
 "cells": [
  {
   "cell_type": "code",
   "execution_count": 6,
   "id": "521f658e",
   "metadata": {},
   "outputs": [
    {
     "name": "stderr",
     "output_type": "stream",
     "text": [
      "100%|██████████| 1/1 [00:00<00:00, 18.39it/s]"
     ]
    },
    {
     "name": "stdout",
     "output_type": "stream",
     "text": [
      "Size: 0.2555904 GB\n",
      "(128, 256, 1300, 6)\n"
     ]
    },
    {
     "name": "stderr",
     "output_type": "stream",
     "text": [
      "\n"
     ]
    },
    {
     "data": {
      "image/png": "[encoded data removed]",
      "text/plain": [
       "<Figure size 432x288 with 1 Axes>"
      ]
     },
     "metadata": {
      "needs_background": "light"
     },
     "output_type": "display_data"
    }
   ],
   "source": [
    "import os, random, multiprocessing\n",
    "\n",
    "import matplotlib.pyplot as plt\n",
    "from tqdm import tqdm\n",
    "import numpy as np\n",
    "import pandas as pd\n",
    "import scipy.stats as sts\n",
    "\n",
    "pd.options.mode.chained_assignment = None\n",
    "\n",
    "\n",
    "def gaussian(x, mu, sig):\n",
    "    val = np.asarray(\n",
    "        np.exp(-np.power(x - mu, 2.0) / (2 * np.power(sig, 2.0))) * 100, dtype=np.int8\n",
    "    )\n",
    "    return val\n",
    "\n",
    "\n",
    "class get_datacube:\n",
    "    \"\"\" \"\"\"\n",
    "\n",
    "    def __init__(self):\n",
    "\n",
    "        DATADIR = \"data\"\n",
    "        LCFILE = os.path.join(DATADIR, \"plasticc_train_lightcurves.csv.gz\")\n",
    "        LCS = pd.read_csv(LCFILE).set_index([\"object_id\"])\n",
    "\n",
    "        ids = LCS.index.unique().values\n",
    "\n",
    "        NBIN_X = 1300\n",
    "        NBIN_Y = 256\n",
    "\n",
    "        NBAND = 6\n",
    "\n",
    "        start_mod = 59580.0343\n",
    "        end_mod = 60674.363\n",
    "        binned_mod, binned_mod_step = np.linspace(\n",
    "            start_mod, end_mod, NBIN_X, retstep=True\n",
    "        )\n",
    "\n",
    "        final_cube = np.zeros((len(ids[:128]), NBIN_Y, NBIN_X, NBAND), dtype=np.int8)\n",
    "\n",
    "        for i, object_id in enumerate(tqdm(ids[:1])):\n",
    "\n",
    "            # multi-color light curve\n",
    "            lc_full = LCS.query(\"object_id == @object_id\")\n",
    "\n",
    "            min_flux = lc_full.flux.min()\n",
    "            peak_flux = lc_full.flux.max()\n",
    "\n",
    "            # discretize flux column\n",
    "            y_val, y_step = np.linspace(min_flux, peak_flux, NBIN_Y, retstep=True)\n",
    "\n",
    "            # grid (3D cube)\n",
    "            grid_full = np.zeros((NBIN_Y, NBIN_X, NBAND), dtype=np.float16)\n",
    "\n",
    "            # loop over passband (color filters)\n",
    "            for passband in range(1):\n",
    "\n",
    "                # single-color light curve\n",
    "                lc = lc_full.query(\"passband == @passband\")\n",
    "\n",
    "                # discretize flux column\n",
    "                # Return the indices of the bins to which each value in input array belongs.\n",
    "                y_select = np.digitize(\n",
    "                    lc.flux, y_val, right=True\n",
    "                )  # right=True: bins[i-1] < x <= bins[i]\n",
    "\n",
    "                # normalized gaussian\n",
    "                flux_grey_val = np.zeros((NBIN_Y, len(lc)))\n",
    "\n",
    "                for point, (mu, sig, y_idx) in enumerate(\n",
    "                    zip(lc.flux.values, lc.flux_err.values, y_select)\n",
    "                ):\n",
    "                    mu_pix = y_val[y_idx]  # - y_step/2\n",
    "                    flux_grey_val[:, point] = gaussian(y_val, mu_pix, sig)\n",
    "\n",
    "                # discretize mjd column\n",
    "                x_select = np.digitize(lc.mjd.values, binned_mod, right=True)\n",
    "\n",
    "                grid_full[:, x_select, passband] = flux_grey_val\n",
    "                plt.imshow(flux_grey_val)\n",
    "\n",
    "            final_cube[i] = grid_full\n",
    "\n",
    "            del grid_full\n",
    "\n",
    "        self.return_cube = final_cube\n",
    "\n",
    "\n",
    "if __name__ == \"__main__\":\n",
    "\n",
    "    cube = get_datacube()\n",
    "    lcs = cube.return_cube\n",
    "    print(f\"Size: {lcs.nbytes / 1e9} GB\")\n",
    "    print(lcs.shape)\n",
    "\n",
    "    # np.savez(\"augmented_data/pixelized_sample.npz\", lcs)\n"
   ]
  },
  {
   "cell_type": "code",
   "execution_count": null,
   "id": "cfbed08a",
   "metadata": {},
   "outputs": [],
   "source": []
  }
 ],
 "metadata": {
  "kernelspec": {
   "display_name": "Python 3",
   "language": "python",
   "name": "python3"
  },
  "language_info": {
   "codemirror_mode": {
    "name": "ipython",
    "version": 3
   },
   "file_extension": ".py",
   "mimetype": "text/x-python",
   "name": "python",
   "nbconvert_exporter": "python",
   "pygments_lexer": "ipython3",
   "version": "3.9.12"
  }
 },
 "nbformat": 4,
 "nbformat_minor": 5
}
