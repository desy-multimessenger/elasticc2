{
 "cells": [
  {
   "cell_type": "code",
   "execution_count": 1,
   "id": "a089cc09-0229-495d-9ec2-c67148de7cb4",
   "metadata": {},
   "outputs": [],
   "source": [
    "%matplotlib widget"
   ]
  },
  {
   "cell_type": "code",
   "execution_count": 2,
   "id": "dd8d2f20-1a5b-4b19-9778-b424f8a42342",
   "metadata": {},
   "outputs": [],
   "source": [
    "import os, random, multiprocessing\n",
    "\n",
    "import matplotlib.pyplot as plt\n",
    "from tqdm import tqdm\n",
    "import numpy as np\n",
    "import pandas as pd\n",
    "import scipy.stats as sts"
   ]
  },
  {
   "cell_type": "code",
   "execution_count": 3,
   "id": "f4628faa-473f-4fca-88f6-1f93b56b14ef",
   "metadata": {},
   "outputs": [],
   "source": [
    "pd.options.mode.chained_assignment = None  # default='warn'"
   ]
  },
  {
   "cell_type": "code",
   "execution_count": 98,
   "id": "3cca7ac1-9bc2-4033-be38-8311b7ad705e",
   "metadata": {},
   "outputs": [],
   "source": [
    "# from sklearn.utils.testing import ignore_warnings\n",
    "\n",
    "DATADIR = \"data\"\n",
    "LCFILE = os.path.join(DATADIR, \"plasticc_train_lightcurves.csv.gz\")\n",
    "LCS = pd.read_csv(LCFILE).set_index([\"object_id\"])\n",
    "\n",
    "NBIN_X = 2048\n",
    "NBIN_Y = 256\n",
    "\n",
    "NBAND = 6\n",
    "\n",
    "start_mod = 59580.0343\n",
    "end_mod = 60674.363\n",
    "binned_mod, binned_mod_step = np.linspace(start_mod, end_mod, NBIN_X, retstep=True)"
   ]
  },
  {
   "cell_type": "code",
   "execution_count": 5,
   "id": "d4f0a521-6347-4d83-a5b4-f0cbd622d369",
   "metadata": {},
   "outputs": [],
   "source": [
    "def gaussian(x, mu, sig):\n",
    "    return np.exp(-np.power(x - mu, 2.) / (2 * np.power(sig, 2.)))"
   ]
  },
  {
   "cell_type": "code",
   "execution_count": 140,
   "id": "d5c7263d-dddf-42e6-94a0-dbda9db03c26",
   "metadata": {},
   "outputs": [
    {
     "name": "stdout",
     "output_type": "stream",
     "text": [
      "[ 42   6  42  41  26  95 165 179  99  84   0 134  22  14 191 253  23  28\n",
      " 255 146  97  52  33  27 151  39   4 111  11 200 254   1 106   2 210 211\n",
      "   1 162 255  69  11 155 242   3 167 180   4  19  42  20 255 190 104 170\n",
      " 226  82  72 248]\n",
      "660.626343 660.626343\n",
      "6.906142768627451\n",
      "[ -810.38206672 -1059.00320639  -810.38206672  -817.28820949\n",
      "  -920.88035102  -444.35649998    39.07349382   135.75949258\n",
      "  -416.73192891  -520.32407044 -1100.440063    -175.016932\n",
      "  -948.50492209 -1003.75406424   218.63320581   646.81405746\n",
      "  -941.59877932  -907.06806548   660.626343     -92.14321878\n",
      "  -430.54421444  -741.32063903  -872.53735164  -913.97420825\n",
      "   -57.61250494  -831.10049502 -1072.81549193  -333.85821568\n",
      " -1024.47249255   280.78849073   653.72020023 -1093.53392023\n",
      "  -368.38892953 -1086.62777746   349.84991841   356.75606118\n",
      " -1093.53392023    18.35506552   660.626343    -623.91621196\n",
      " -1024.47249255   -29.98793386   570.84648701 -1079.72163469\n",
      "    52.88577936   142.66563535 -1072.81549193  -969.2233504\n",
      "  -810.38206672  -962.31720763   660.626343     211.72706304\n",
      "  -382.20121506    73.60420767   460.34820271  -534.13635597\n",
      "  -603.19778366   612.28334362] object_id\n",
      "615    -816.434326\n",
      "615   -1061.457031\n",
      "615    -815.188599\n",
      "615    -820.042786\n",
      "615    -921.002502\n",
      "615    -449.095612\n",
      "615      35.511822\n",
      "615     129.541901\n",
      "615    -420.796417\n",
      "615    -527.020325\n",
      "615   -1100.440063\n",
      "615    -178.149399\n",
      "615    -953.883728\n",
      "615   -1003.971497\n",
      "615     217.894211\n",
      "615     646.523193\n",
      "615    -942.167908\n",
      "615    -910.677734\n",
      "615     659.486694\n",
      "615     -98.796974\n",
      "615    -437.425110\n",
      "615    -743.267212\n",
      "615    -878.043396\n",
      "615    -917.875488\n",
      "615     -62.120552\n",
      "615    -836.233154\n",
      "615   -1077.347900\n",
      "615    -339.875153\n",
      "615   -1028.441528\n",
      "615     276.757751\n",
      "615     650.984314\n",
      "615   -1094.027588\n",
      "615    -370.189575\n",
      "615   -1086.777710\n",
      "615     346.335083\n",
      "615     356.632690\n",
      "615   -1098.651489\n",
      "615      14.526012\n",
      "615     660.626343\n",
      "615    -624.518799\n",
      "615   -1031.102905\n",
      "615     -32.986282\n",
      "615     566.281433\n",
      "615   -1084.891113\n",
      "615      51.060081\n",
      "615     142.089966\n",
      "615   -1076.652100\n",
      "615    -972.201111\n",
      "615    -812.792908\n",
      "615    -963.216980\n",
      "615     655.284058\n",
      "615     205.029755\n",
      "615    -388.231476\n",
      "615      70.494507\n",
      "615     457.502197\n",
      "615    -537.169312\n",
      "615    -607.040771\n",
      "615     607.047668\n",
      "Name: flux, dtype: float64\n",
      "58\n",
      "-2.5991878980391903 True\n",
      "0.9992467725492133 True\n",
      "-1.3534608980390885 True\n",
      "0.6984948705883198 True\n",
      "3.330920399999968 True\n",
      "-1.286040635294114 True\n",
      "-0.10860043921563545 True\n",
      "-2.764520199999936 True\n",
      "-0.6114167098038479 True\n",
      "-3.243183180392066 True\n",
      "3.4530713843137164 True\n",
      "0.32060438823535264 True\n",
      "-1.9257345254902702 True\n",
      "3.2356386235294394 True\n",
      "2.71407657647066 True\n",
      "3.162206921568668 True\n",
      "2.883942705882305 True\n",
      "-0.1565971372548347 True\n",
      "2.3134223843137534 True\n",
      "-3.200683835294072 True\n",
      "-3.4278241725489806 True\n",
      "1.5064984156863375 True\n",
      "-2.0529729803921555 True\n",
      "-0.44820836862743363 True\n",
      "-1.0549756784313544 True\n",
      "-1.6795875921568495 True\n",
      "-1.079336690195987 True\n",
      "-2.563865933333261 True\n",
      "-0.5159640705883248 True\n",
      "-0.5776683411764907 True\n",
      "0.7171851529412834 True\n",
      "2.9594036156863694 True\n",
      "1.6524259098039238 True\n",
      "3.30313884705879 True\n",
      "-0.061764027450806225 True\n",
      "3.3297002039217887 True\n",
      "-1.6644973843137905 True\n",
      "-0.37598213333333774 True\n",
      "3.4530713843137164 True\n",
      "2.8504843490196663 True\n",
      "-3.177341070588227 True\n",
      "0.4547232470589151 True\n",
      "-1.111982623529343 True\n",
      "-1.7164069215684776 True\n",
      "1.6273730235294934 True\n",
      "2.8774020313726396 True\n",
      "-0.3835366901960242 True\n",
      "0.4753107803921921 True\n",
      "1.042230101960854 True\n",
      "2.553299011764693 True\n",
      "-1.8892136156863444 True\n",
      "-3.2442366549019255 True\n",
      "-2.5771895529410926 True\n",
      "0.34337071764720406 True\n",
      "0.6070656745098404 True\n",
      "0.420115356862766 True\n",
      "-0.38991595686263736 True\n",
      "-1.7826042352938885 True\n",
      "58 58\n"
     ]
    }
   ],
   "source": [
    "def bin(df):\n",
    "    return None\n",
    "\n",
    "\n",
    "def plot_hist(matrix):\n",
    "    return None\n",
    "\n",
    "\n",
    "ids = LCS.index.unique().values\n",
    "\n",
    "# loop over object_id\n",
    "for test_id in ids[0:1]:\n",
    "    \n",
    "    # multi-color light curve\n",
    "    lc_full = LCS.query(\"object_id == @test_id\")\n",
    "    \n",
    "    min_flux = lc_full.flux.min()\n",
    "    peak_flux = lc_full.flux.max()\n",
    "    \n",
    "    # discretize flux column\n",
    "    y_val, y_step = np.linspace(min_flux, peak_flux, NBIN_Y, retstep=True)\n",
    "    \n",
    "    # grid (3D cube)\n",
    "    grid_full = np.zeros((NBIN_Y, NBIN_X, NBAND))\n",
    "    \n",
    "    # loop over passband (color filters)\n",
    "    for passband in range(1,2):\n",
    "        \n",
    "        test_id = 3489\n",
    "        #passband = 5\n",
    "        \n",
    "        # single-color light curve\n",
    "        lc = lc_full.query(\"passband == @passband\")\n",
    "        \n",
    "        # discretize flux column\n",
    "        # Return the indices of the bins to which each value in input array belongs.\n",
    "        y_select = np.digitize(lc.flux, y_val, right=True)  # right=True: bins[i-1] < x <= bins[i]\n",
    "        print(y_select)\n",
    "        print(lc.flux.max(), y_val.max())\n",
    "        print(y_step)\n",
    "        print(y_val[y_select], lc.flux)\n",
    "        print(len(lc.flux.values))\n",
    "        \n",
    "        # normalized gaussian\n",
    "        flux_grey_val = np.zeros((NBIN_Y, len(lc)))\n",
    "        for point, (mu, sig, y_idx) in enumerate(zip(lc.flux.values, lc.flux_err.values, y_select)):\n",
    "            mu_pix = y_val[y_idx] - y_step/2\n",
    "            print(mu-mu_pix, abs(mu-mu_pix) <= y_step/2)\n",
    "            flux_grey_val[:, point] = gaussian(y_val, mu_pix, sig)\n",
    "        \n",
    "        # discretize mjd column\n",
    "        x_select = np.digitize(lc.mjd.values, binned_mod)\n",
    "        \n",
    "        grid_full[y_select, x_select, passband] = 1\n",
    "        print(len(x_select), len(y_select))\n",
    "        \n",
    "        \"\"\"\n",
    "        pix_to_flux = peak_flux / NBIN_Y\n",
    "        print(f\"Peak flux: {peak_flux}\")\n",
    "        print(f\"Flux increase per Pixel: {pix_to_flux}\")\n",
    "\n",
    "        bins = np.linspace(start=start_mod, stop=end_mod, num=NBIN_X) - start_mod\n",
    "\n",
    "        hist = np.histogram2d(x=lc.mjd, y=lc.flux, bins=[NBIN_X, NBIN_Y])[0]\n",
    "\n",
    "        k = 0\n",
    "        for i in range(NBIN_X):\n",
    "            column = hist[i, :]\n",
    "            if np.sum(column) == 1:\n",
    "                flux = lc.flux.values[k]\n",
    "                err = lc.flux_err.values[k]\n",
    "                normaldist = sts.norm(loc=flux, scale=err)\n",
    "                for l in column:\n",
    "                    if l == 1:\n",
    "                        central_pixel = l\n",
    "                k += 1\n",
    "        \"\"\"\n",
    "# fig, ax = plt.subplots()\n",
    "# ax.hist2d(x=lc.mjd, y=lc.flux, bins=[NBIN_X, 256])\n",
    "# fig.savefig(\"test.png\")"
   ]
  },
  {
   "cell_type": "code",
   "execution_count": 123,
   "id": "72198feb-7568-414d-a4b5-f76fb10d7dc1",
   "metadata": {},
   "outputs": [
    {
     "data": {
      "text/plain": [
       "True"
      ]
     },
     "execution_count": 123,
     "metadata": {},
     "output_type": "execute_result"
    }
   ],
   "source": [
    "lc.flux.min() == lc_full.flux.min()"
   ]
  },
  {
   "cell_type": "code",
   "execution_count": 142,
   "id": "440fb744-20f5-429e-9ccc-5a139e87cd0e",
   "metadata": {},
   "outputs": [
    {
     "data": {
      "text/plain": [
       "<matplotlib.image.AxesImage at 0x12d3aff70>"
      ]
     },
     "execution_count": 142,
     "metadata": {},
     "output_type": "execute_result"
    },
    {
     "data": {
      "application/vnd.jupyter.widget-view+json": {
       "model_id": "6162c618353846d28518cf78da87afc5",
       "version_major": 2,
       "version_minor": 0
      },
      "image/png": "[encoded data removed]",
      "text/html": [
       "\n",
       "            <div style=\"display: inline-block;\">\n",
       "                <div class=\"jupyter-widgets widget-label\" style=\"text-align: center;\">\n",
       "                    Figure\n",
       "                </div>\n",
       "                <img src='data:image/png;base64,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' width=500.0/>\n",
       "            </div>\n",
       "        "
      ],
      "text/plain": [
       "Canvas(toolbar=Toolbar(toolitems=[('Home', 'Reset original view', 'home', 'home'), ('Back', 'Back to previous …"
      ]
     },
     "metadata": {},
     "output_type": "display_data"
    }
   ],
   "source": [
    "num = 3\n",
    "plt.close(num)\n",
    "fig, ax = plt.subplots(num=num, figsize=(5,5./1.6), tight_layout=True)\n",
    "\n",
    "ax.imshow(\n",
    "    #grid_full[:,:,2],\n",
    "    flux_grey_val,\n",
    "    cmap=\"Greys\"\n",
    ")"
   ]
  },
  {
   "cell_type": "code",
   "execution_count": 63,
   "id": "5a1d486b-d62a-4825-bc81-f940280a7406",
   "metadata": {},
   "outputs": [
    {
     "data": {
      "text/plain": [
       "2048"
      ]
     },
     "execution_count": 63,
     "metadata": {},
     "output_type": "execute_result"
    }
   ],
   "source": [
    "NBIN_X"
   ]
  },
  {
   "cell_type": "code",
   "execution_count": 57,
   "id": "bca7243c-6c26-41f2-8bda-c67a6dacac35",
   "metadata": {},
   "outputs": [],
   "source": [
    "select = np.digitize(lc.mjd.values,binned_mod)"
   ]
  },
  {
   "cell_type": "code",
   "execution_count": 58,
   "id": "7463bce0-981b-45ee-a4eb-226084e43dcf",
   "metadata": {},
   "outputs": [],
   "source": [
    "img = np.zeros((NBIN_Y, NBIN_X))"
   ]
  },
  {
   "cell_type": "code",
   "execution_count": 59,
   "id": "679ce9ea-1401-41b6-ba65-f4c7e13c5eeb",
   "metadata": {},
   "outputs": [],
   "source": [
    "img[:,select] = flux_grey_val"
   ]
  },
  {
   "cell_type": "code",
   "execution_count": 60,
   "id": "0555ef44-ad55-4f32-b509-5dae14050192",
   "metadata": {},
   "outputs": [
    {
     "data": {
      "text/plain": [
       "<matplotlib.image.AxesImage at 0x12a83f550>"
      ]
     },
     "execution_count": 60,
     "metadata": {},
     "output_type": "execute_result"
    },
    {
     "data": {
      "application/vnd.jupyter.widget-view+json": {
       "model_id": "ff4c8ac13bdd4b538371a146170de3a3",
       "version_major": 2,
       "version_minor": 0
      },
      "image/png": "[encoded data removed]",
      "text/html": [
       "\n",
       "            <div style=\"display: inline-block;\">\n",
       "                <div class=\"jupyter-widgets widget-label\" style=\"text-align: center;\">\n",
       "                    Figure\n",
       "                </div>\n",
       "                <img src='data:image/png;base64,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' width=500.0/>\n",
       "            </div>\n",
       "        "
      ],
      "text/plain": [
       "Canvas(toolbar=Toolbar(toolitems=[('Home', 'Reset original view', 'home', 'home'), ('Back', 'Back to previous …"
      ]
     },
     "metadata": {},
     "output_type": "display_data"
    }
   ],
   "source": [
    "num = 4\n",
    "plt.close(num)\n",
    "fig, ax = plt.subplots(num=num, figsize=(5,5./1.6), tight_layout=True)\n",
    "\n",
    "ax.imshow(\n",
    "    img,\n",
    "    cmap=\"Greys\"\n",
    ")"
   ]
  },
  {
   "cell_type": "code",
   "execution_count": 64,
   "id": "999514d6-14c9-4e01-ad47-f12bd8fdfc49",
   "metadata": {},
   "outputs": [
    {
     "data": {
      "text/plain": [
       "(256, 2048)"
      ]
     },
     "execution_count": 64,
     "metadata": {},
     "output_type": "execute_result"
    }
   ],
   "source": [
    "img.shape"
   ]
  },
  {
   "cell_type": "code",
   "execution_count": null,
   "id": "e24720e5-282a-4268-a5eb-a6798850a19f",
   "metadata": {},
   "outputs": [],
   "source": []
  },
  {
   "cell_type": "code",
   "execution_count": null,
   "id": "821febba-977b-475a-9ebb-983d1ef83bd7",
   "metadata": {},
   "outputs": [],
   "source": []
  },
  {
   "cell_type": "code",
   "execution_count": null,
   "id": "c168fd8d-d702-4901-b48b-d8d2b28eff04",
   "metadata": {},
   "outputs": [],
   "source": []
  }
 ],
 "metadata": {
  "kernelspec": {
   "display_name": "ml_workshop_30909",
   "language": "python",
   "name": "ml_workshop_30909"
  },
  "language_info": {
   "codemirror_mode": {
    "name": "ipython",
    "version": 3
   },
   "file_extension": ".py",
   "mimetype": "text/x-python",
   "name": "python",
   "nbconvert_exporter": "python",
   "pygments_lexer": "ipython3",
   "version": "3.9.9"
  }
 },
 "nbformat": 4,
 "nbformat_minor": 5
}
