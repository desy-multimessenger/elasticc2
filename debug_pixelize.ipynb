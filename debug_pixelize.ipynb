{
 "cells": [
  {
   "cell_type": "code",
   "execution_count": 1,
   "id": "a089cc09-0229-495d-9ec2-c67148de7cb4",
   "metadata": {},
   "outputs": [],
   "source": [
    "%matplotlib widget"
   ]
  },
  {
   "cell_type": "code",
   "execution_count": 2,
   "id": "dd8d2f20-1a5b-4b19-9778-b424f8a42342",
   "metadata": {},
   "outputs": [],
   "source": [
    "import os, random, multiprocessing\n",
    "\n",
    "import matplotlib.pyplot as plt\n",
    "from tqdm import tqdm\n",
    "import numpy as np\n",
    "import pandas as pd\n",
    "import scipy.stats as sts"
   ]
  },
  {
   "cell_type": "code",
   "execution_count": 3,
   "id": "f4628faa-473f-4fca-88f6-1f93b56b14ef",
   "metadata": {},
   "outputs": [],
   "source": [
    "pd.options.mode.chained_assignment = None  # default='warn'"
   ]
  },
  {
   "cell_type": "code",
   "execution_count": 98,
   "id": "3cca7ac1-9bc2-4033-be38-8311b7ad705e",
   "metadata": {},
   "outputs": [],
   "source": [
    "# from sklearn.utils.testing import ignore_warnings\n",
    "\n",
    "DATADIR = \"data\"\n",
    "LCFILE = os.path.join(DATADIR, \"plasticc_train_lightcurves.csv.gz\")\n",
    "LCS = pd.read_csv(LCFILE).set_index([\"object_id\"])\n",
    "\n",
    "NBIN_X = 2048\n",
    "NBIN_Y = 256\n",
    "\n",
    "NBAND = 6\n",
    "\n",
    "start_mod = 59580.0343\n",
    "end_mod = 60674.363\n",
    "binned_mod, binned_mod_step = np.linspace(start_mod, end_mod, NBIN_X, retstep=True)"
   ]
  },
  {
   "cell_type": "code",
   "execution_count": 5,
   "id": "d4f0a521-6347-4d83-a5b4-f0cbd622d369",
   "metadata": {},
   "outputs": [],
   "source": [
    "def gaussian(x, mu, sig):\n",
    "    return np.exp(-np.power(x - mu, 2.) / (2 * np.power(sig, 2.)))"
   ]
  },
  {
   "cell_type": "code",
   "execution_count": 102,
   "id": "d5c7263d-dddf-42e6-94a0-dbda9db03c26",
   "metadata": {},
   "outputs": [
    {
     "name": "stdout",
     "output_type": "stream",
     "text": [
      "63 63\n",
      "Peak flux: 1761.066406\n",
      "Flux increase per Pixel: 6.8791656484375\n",
      "58 58\n",
      "Peak flux: 1761.066406\n",
      "Flux increase per Pixel: 6.8791656484375\n",
      "58 58\n",
      "Peak flux: 1761.066406\n",
      "Flux increase per Pixel: 6.8791656484375\n",
      "58 58\n",
      "Peak flux: 1761.066406\n",
      "Flux increase per Pixel: 6.8791656484375\n",
      "58 58\n",
      "Peak flux: 1761.066406\n",
      "Flux increase per Pixel: 6.8791656484375\n",
      "57 57\n",
      "Peak flux: 1761.066406\n",
      "Flux increase per Pixel: 6.8791656484375\n"
     ]
    }
   ],
   "source": [
    "def bin(df):\n",
    "    return None\n",
    "\n",
    "\n",
    "def plot_hist(matrix):\n",
    "    return None\n",
    "\n",
    "\n",
    "ids = LCS.index.unique().values\n",
    "\n",
    "for test_id in ids[0:1]:\n",
    "    \n",
    "    lc_full = LCS.query(\"object_id == @test_id\")\n",
    "    \n",
    "    flux_shift = abs(lc_full.flux.min())\n",
    "    peak_flux = lc_full.flux.max() + flux_shift\n",
    "    \n",
    "    # shift flux to positive values\n",
    "    lc_full.flux = lc_full.flux + flux_shift\n",
    "    \n",
    "    # discretize flux column\n",
    "    y_val, y_step = np.linspace(lc_full.flux.min(), lc_full.flux.max(), NBIN_Y, retstep=True)\n",
    "    \n",
    "    grid_full = np.zeros((NBIN_Y, NBIN_X, NBAND))\n",
    "    \n",
    "    for passband in range(NBAND):\n",
    "        \n",
    "        test_id = 3489\n",
    "        #passband = 5\n",
    "        \n",
    "        lc = lc_full.query(\"passband == @passband\")\n",
    "        \n",
    "        # discretize flux column\n",
    "        y_select = np.digitize(lc.flux, y_val) - 1\n",
    "        \n",
    "        # normalized gaussian\n",
    "        flux_grey_val = np.zeros((NBIN_Y, len(lc)))\n",
    "        for point, (mu, sig) in enumerate(zip(lc.flux.values, lc.flux_err.values)):\n",
    "            flux_grey_val[:, point] = gaussian(y_val, mu, sig)\n",
    "        \n",
    "        # discretize mjd column\n",
    "        x_select = np.digitize(lc.mjd.values, binned_mod)\n",
    "        \n",
    "        grid_full[y_select, x_select, passband] + 1\n",
    "        print(len(x_select), len(y_select))\n",
    "\n",
    "        pix_to_flux = peak_flux / NBIN_Y\n",
    "        print(f\"Peak flux: {peak_flux}\")\n",
    "        print(f\"Flux increase per Pixel: {pix_to_flux}\")\n",
    "\n",
    "        bins = np.linspace(start=start_mod, stop=end_mod, num=NBIN_X) - start_mod\n",
    "\n",
    "        hist = np.histogram2d(x=lc.mjd, y=lc.flux, bins=[NBIN_X, NBIN_Y])[0]\n",
    "\n",
    "        k = 0\n",
    "        for i in range(NBIN_X):\n",
    "            column = hist[i, :]\n",
    "            if np.sum(column) == 1:\n",
    "                flux = lc.flux.values[k]\n",
    "                err = lc.flux_err.values[k]\n",
    "                normaldist = sts.norm(loc=flux, scale=err)\n",
    "                for l in column:\n",
    "                    if l == 1:\n",
    "                        central_pixel = l\n",
    "                k += 1\n",
    "\n",
    "# fig, ax = plt.subplots()\n",
    "# ax.hist2d(x=lc.mjd, y=lc.flux, bins=[NBIN_X, 256])\n",
    "# fig.savefig(\"test.png\")"
   ]
  },
  {
   "cell_type": "code",
   "execution_count": 105,
   "id": "440fb744-20f5-429e-9ccc-5a139e87cd0e",
   "metadata": {},
   "outputs": [
    {
     "data": {
      "text/plain": [
       "<matplotlib.image.AxesImage at 0x12ae84b50>"
      ]
     },
     "execution_count": 105,
     "metadata": {},
     "output_type": "execute_result"
    },
    {
     "data": {
      "application/vnd.jupyter.widget-view+json": {
       "model_id": "6f42bf3551db4451811e6f61fb65d0c9",
       "version_major": 2,
       "version_minor": 0
      },
      "image/png": "[encoded data removed]",
      "text/html": [
       "\n",
       "            <div style=\"display: inline-block;\">\n",
       "                <div class=\"jupyter-widgets widget-label\" style=\"text-align: center;\">\n",
       "                    Figure\n",
       "                </div>\n",
       "                <img src='data:image/png;base64,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' width=500.0/>\n",
       "            </div>\n",
       "        "
      ],
      "text/plain": [
       "Canvas(toolbar=Toolbar(toolitems=[('Home', 'Reset original view', 'home', 'home'), ('Back', 'Back to previous …"
      ]
     },
     "metadata": {},
     "output_type": "display_data"
    }
   ],
   "source": [
    "num = 3\n",
    "plt.close(num)\n",
    "fig, ax = plt.subplots(num=num, figsize=(5,5./1.6), tight_layout=True)\n",
    "\n",
    "ax.imshow(\n",
    "    grid_full[:,:,5],\n",
    "    #cmap=\"Greys\"\n",
    ")"
   ]
  },
  {
   "cell_type": "code",
   "execution_count": 63,
   "id": "5a1d486b-d62a-4825-bc81-f940280a7406",
   "metadata": {},
   "outputs": [
    {
     "data": {
      "text/plain": [
       "2048"
      ]
     },
     "execution_count": 63,
     "metadata": {},
     "output_type": "execute_result"
    }
   ],
   "source": [
    "NBIN_X"
   ]
  },
  {
   "cell_type": "code",
   "execution_count": 57,
   "id": "bca7243c-6c26-41f2-8bda-c67a6dacac35",
   "metadata": {},
   "outputs": [],
   "source": [
    "select = np.digitize(lc.mjd.values,binned_mod)"
   ]
  },
  {
   "cell_type": "code",
   "execution_count": 58,
   "id": "7463bce0-981b-45ee-a4eb-226084e43dcf",
   "metadata": {},
   "outputs": [],
   "source": [
    "img = np.zeros((NBIN_Y, NBIN_X))"
   ]
  },
  {
   "cell_type": "code",
   "execution_count": 59,
   "id": "679ce9ea-1401-41b6-ba65-f4c7e13c5eeb",
   "metadata": {},
   "outputs": [],
   "source": [
    "img[:,select] = flux_grey_val"
   ]
  },
  {
   "cell_type": "code",
   "execution_count": 60,
   "id": "0555ef44-ad55-4f32-b509-5dae14050192",
   "metadata": {},
   "outputs": [
    {
     "data": {
      "text/plain": [
       "<matplotlib.image.AxesImage at 0x12a83f550>"
      ]
     },
     "execution_count": 60,
     "metadata": {},
     "output_type": "execute_result"
    },
    {
     "data": {
      "application/vnd.jupyter.widget-view+json": {
       "model_id": "ff4c8ac13bdd4b538371a146170de3a3",
       "version_major": 2,
       "version_minor": 0
      },
      "image/png": "[encoded data removed]",
      "text/html": [
       "\n",
       "            <div style=\"display: inline-block;\">\n",
       "                <div class=\"jupyter-widgets widget-label\" style=\"text-align: center;\">\n",
       "                    Figure\n",
       "                </div>\n",
       "                <img src='data:image/png;base64,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' width=500.0/>\n",
       "            </div>\n",
       "        "
      ],
      "text/plain": [
       "Canvas(toolbar=Toolbar(toolitems=[('Home', 'Reset original view', 'home', 'home'), ('Back', 'Back to previous …"
      ]
     },
     "metadata": {},
     "output_type": "display_data"
    }
   ],
   "source": [
    "num = 4\n",
    "plt.close(num)\n",
    "fig, ax = plt.subplots(num=num, figsize=(5,5./1.6), tight_layout=True)\n",
    "\n",
    "ax.imshow(\n",
    "    img,\n",
    "    cmap=\"Greys\"\n",
    ")"
   ]
  },
  {
   "cell_type": "code",
   "execution_count": 64,
   "id": "999514d6-14c9-4e01-ad47-f12bd8fdfc49",
   "metadata": {},
   "outputs": [
    {
     "data": {
      "text/plain": [
       "(256, 2048)"
      ]
     },
     "execution_count": 64,
     "metadata": {},
     "output_type": "execute_result"
    }
   ],
   "source": [
    "img.shape"
   ]
  },
  {
   "cell_type": "code",
   "execution_count": null,
   "id": "e24720e5-282a-4268-a5eb-a6798850a19f",
   "metadata": {},
   "outputs": [],
   "source": []
  },
  {
   "cell_type": "code",
   "execution_count": null,
   "id": "821febba-977b-475a-9ebb-983d1ef83bd7",
   "metadata": {},
   "outputs": [],
   "source": []
  },
  {
   "cell_type": "code",
   "execution_count": null,
   "id": "c168fd8d-d702-4901-b48b-d8d2b28eff04",
   "metadata": {},
   "outputs": [],
   "source": []
  }
 ],
 "metadata": {
  "kernelspec": {
   "display_name": "ml_workshop_30909",
   "language": "python",
   "name": "ml_workshop_30909"
  },
  "language_info": {
   "codemirror_mode": {
    "name": "ipython",
    "version": 3
   },
   "file_extension": ".py",
   "mimetype": "text/x-python",
   "name": "python",
   "nbconvert_exporter": "python",
   "pygments_lexer": "ipython3",
   "version": "3.9.9"
  }
 },
 "nbformat": 4,
 "nbformat_minor": 5
}
