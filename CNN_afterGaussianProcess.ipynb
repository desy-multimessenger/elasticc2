{
 "cells": [
  {
   "cell_type": "markdown",
   "id": "3dffadb1",
   "metadata": {},
   "source": [
    "## CNN timeseries class."
   ]
  },
  {
   "cell_type": "code",
   "execution_count": null,
   "id": "84407e7f",
   "metadata": {},
   "outputs": [],
   "source": [
    "from tensorflow import keras\n",
    "import numpy as np\n",
    "import matplotlib.pyplot as plt"
   ]
  },
  {
   "cell_type": "code",
   "execution_count": null,
   "id": "dd2e877b",
   "metadata": {},
   "outputs": [],
   "source": [
    "import pandas as pd\n",
    "\n",
    "aa = pd.read_csv(root_url + \"FordA_TRAIN.tsv\",delimiter='\\t',header=None)"
   ]
  },
  {
   "cell_type": "code",
   "execution_count": null,
   "id": "977b2c0e",
   "metadata": {},
   "outputs": [],
   "source": [
    "aa"
   ]
  },
  {
   "cell_type": "code",
   "execution_count": null,
   "id": "d311bbdf",
   "metadata": {},
   "outputs": [],
   "source": [
    "def readucr(filename):\n",
    "    data = np.loadtxt(filename, delimiter=\"\\t\")\n",
    "    y = data[:, 0]\n",
    "    x = data[:, 1:]\n",
    "    return x, y.astype(int)\n",
    "\n",
    "\n",
    "root_url = \"https://raw.githubusercontent.com/hfawaz/cd-diagram/master/FordA/\"\n",
    "\n",
    "x_train, y_train = readucr(root_url + \"FordA_TRAIN.tsv\")\n",
    "x_test, y_test = readucr(root_url + \"FordA_TEST.tsv\")"
   ]
  },
  {
   "cell_type": "code",
   "execution_count": null,
   "id": "2a24624c",
   "metadata": {},
   "outputs": [],
   "source": [
    "x_train.shape"
   ]
  },
  {
   "cell_type": "code",
   "execution_count": null,
   "id": "ba4b5517",
   "metadata": {},
   "outputs": [],
   "source": [
    "plt.figure()\n",
    "plt.plot(x_train[103,:])"
   ]
  },
  {
   "cell_type": "code",
   "execution_count": null,
   "id": "b3364114",
   "metadata": {},
   "outputs": [],
   "source": [
    "classes = np.unique(np.concatenate((y_train, y_test), axis=0))\n",
    "\n",
    "plt.figure()\n",
    "for c in classes:\n",
    "    c_x_train = x_train[y_train == c]\n",
    "    plt.plot(c_x_train[0], label=\"class \" + str(c))\n",
    "plt.legend(loc=\"best\")\n",
    "plt.show()\n",
    "plt.close()"
   ]
  },
  {
   "cell_type": "code",
   "execution_count": null,
   "id": "2fd3126d",
   "metadata": {},
   "outputs": [],
   "source": [
    "x_train = x_train.reshape((x_train.shape[0], x_train.shape[1], 1))\n",
    "x_test = x_test.reshape((x_test.shape[0], x_test.shape[1], 1))"
   ]
  },
  {
   "cell_type": "code",
   "execution_count": null,
   "id": "e9510953",
   "metadata": {},
   "outputs": [],
   "source": [
    "num_classes = len(np.unique(y_train))\n",
    "print(num_classes)"
   ]
  },
  {
   "cell_type": "code",
   "execution_count": null,
   "id": "150494cd",
   "metadata": {},
   "outputs": [],
   "source": [
    "idx = np.random.permutation(len(x_train))\n",
    "x_train = x_train[idx]\n",
    "y_train = y_train[idx]\n"
   ]
  },
  {
   "cell_type": "code",
   "execution_count": null,
   "id": "f421bac3",
   "metadata": {},
   "outputs": [],
   "source": [
    "y_train[y_train == -1] = 0\n",
    "y_test[y_test == -1] = 0"
   ]
  },
  {
   "cell_type": "code",
   "execution_count": null,
   "id": "c1413e02",
   "metadata": {},
   "outputs": [],
   "source": []
  },
  {
   "cell_type": "markdown",
   "id": "7d8bc713",
   "metadata": {},
   "source": [
    "### Get data from GP"
   ]
  },
  {
   "cell_type": "code",
   "execution_count": 1,
   "id": "b62d5b1c",
   "metadata": {},
   "outputs": [],
   "source": [
    "import pandas as pd\n",
    "import numpy as np\n",
    "\n",
    "from tensorflow import keras\n",
    "import matplotlib.pyplot as plt"
   ]
  },
  {
   "cell_type": "code",
   "execution_count": null,
   "id": "0fe9d76f",
   "metadata": {},
   "outputs": [],
   "source": [
    "data_gp = pd.read_csv('../data/gp_training_data.csv')"
   ]
  },
  {
   "cell_type": "code",
   "execution_count": null,
   "id": "f8b31b22",
   "metadata": {},
   "outputs": [],
   "source": [
    "data_gp"
   ]
  },
  {
   "cell_type": "code",
   "execution_count": null,
   "id": "c293500d",
   "metadata": {},
   "outputs": [],
   "source": [
    "n_obj = len(data_gp['object_id'].unique())\n",
    "n_obs = len(data_gp[(data_gp['object_id'] == 615) & (data_gp['passband'] == 0)])"
   ]
  },
  {
   "cell_type": "code",
   "execution_count": null,
   "id": "d48671fe",
   "metadata": {},
   "outputs": [],
   "source": [
    "x_train = np.ndarray((n_obj,n_obs,6))"
   ]
  },
  {
   "cell_type": "code",
   "execution_count": null,
   "id": "a10a3fc2",
   "metadata": {},
   "outputs": [],
   "source": [
    "unique_obj = data_gp['object_id'].unique()\n",
    "y_train = []\n",
    "for i, obj_id in enumerate(unique_obj):\n",
    "    if i%1000 == 0: print(i)\n",
    "    y_train.append(obj_id)\n",
    "    for z in range(6):\n",
    "        lc_temp = data_gp[(data_gp['object_id'] == obj_id) & (data_gp['passband'] == z)]\n",
    "        x_train[i,:,z] = lc_temp['flux']\n",
    "    \n",
    "    \n",
    "    "
   ]
  },
  {
   "cell_type": "code",
   "execution_count": null,
   "id": "43f14a22",
   "metadata": {},
   "outputs": [],
   "source": [
    "x_train.nbytes/1e9"
   ]
  },
  {
   "cell_type": "code",
   "execution_count": null,
   "id": "663d0453",
   "metadata": {},
   "outputs": [],
   "source": [
    "np.save('train_format_gp.npy',x_train)"
   ]
  },
  {
   "cell_type": "markdown",
   "id": "e5d455fd-1742-43f7-b6d1-3064e636e1f2",
   "metadata": {},
   "source": [
    "## Data preparation (after saving x_train)"
   ]
  },
  {
   "cell_type": "code",
   "execution_count": 2,
   "id": "c94236fc-90e0-49f2-a173-7cec4a1916e6",
   "metadata": {},
   "outputs": [],
   "source": [
    "meta_ = pd.read_csv('../data/PLAsTiCC/training_set_metadata.csv')\n",
    "data_gp = pd.read_csv('../data/gp_training_data.csv')"
   ]
  },
  {
   "cell_type": "code",
   "execution_count": 3,
   "id": "9b2aa175-908a-49d6-832b-6d7e9604580d",
   "metadata": {},
   "outputs": [],
   "source": [
    "unique_obj = data_gp['object_id'].unique()"
   ]
  },
  {
   "cell_type": "code",
   "execution_count": 4,
   "id": "ed5bb0a2-9050-4152-88cd-2bb7ffdcd108",
   "metadata": {},
   "outputs": [
    {
     "data": {
      "text/plain": [
       "array([      615,       713,       730, ..., 130762946, 130772921,\n",
       "       130779836])"
      ]
     },
     "execution_count": 4,
     "metadata": {},
     "output_type": "execute_result"
    }
   ],
   "source": [
    "unique_obj"
   ]
  },
  {
   "cell_type": "code",
   "execution_count": null,
   "id": "3042a65f-7ad6-4914-8f0b-0901d77c54cd",
   "metadata": {},
   "outputs": [],
   "source": [
    "category_mapping[67]"
   ]
  },
  {
   "cell_type": "code",
   "execution_count": 6,
   "id": "3360eb9d-ef1c-4ab5-9196-d9be41533bb1",
   "metadata": {},
   "outputs": [],
   "source": [
    "category_mapping = {90: 'SN1a', 67: 'SN1a-91bg', 52: 'SN1ax', 42: 'SN2', 62: 'SN1bc', 95: 'SLSN1', 15: 'TDE', 64: 'KN', 88: 'AGN', 92: 'RRL', 65: 'M-dwarf', 16: 'EB', 53: 'Mira', 6: 'Microlens'}"
   ]
  },
  {
   "cell_type": "code",
   "execution_count": 11,
   "id": "e2ce1947-7ef5-4348-9e78-84a1ca1a2643",
   "metadata": {},
   "outputs": [],
   "source": [
    "y_train = []\n",
    "for i,obj_id in enumerate(unique_obj):\n",
    "    class_ = meta_[meta_['object_id'] == obj_id]['target'].values[0]\n",
    "    \n",
    "    if category_mapping[class_] == 'AGN':\n",
    "        y_train.append(1)\n",
    "    else:\n",
    "        y_train.append(0)\n",
    "    \n",
    "y_train = np.array(y_train)\n",
    "np.save('data/train_format_gp_labels.npy',y_train)"
   ]
  },
  {
   "cell_type": "markdown",
   "id": "e7332081-b06f-4455-8b56-6d2454b61a33",
   "metadata": {},
   "source": [
    "Simeon start from here with the Ferrari"
   ]
  },
  {
   "cell_type": "code",
   "execution_count": null,
   "id": "e7d094d7-29e7-4b8c-889c-7091ff6201a3",
   "metadata": {},
   "outputs": [],
   "source": [
    "import pandas as pd\n",
    "import numpy as np\n",
    "\n",
    "from tensorflow import keras\n",
    "import matplotlib.pyplot as plt"
   ]
  },
  {
   "cell_type": "code",
   "execution_count": null,
   "id": "6dc1d85f-4516-4947-8595-0d555e152c6a",
   "metadata": {},
   "outputs": [],
   "source": [
    "x_train = np.load('data/train_format_gp.npy')\n",
    "y_train = np.load('data/train_format_gp_labels.npy')\n",
    "print(x_train.shape)\n"
   ]
  },
  {
   "cell_type": "code",
   "execution_count": null,
   "id": "2573ddea",
   "metadata": {},
   "outputs": [],
   "source": [
    "def make_model(input_shape):\n",
    "    input_layer = keras.layers.Input(input_shape)\n",
    "\n",
    "    conv1 = keras.layers.Conv1D(filters=64, kernel_size=3, padding=\"same\")(input_layer)\n",
    "    conv1 = keras.layers.BatchNormalization()(conv1)\n",
    "    conv1 = keras.layers.ReLU()(conv1)\n",
    "\n",
    "    conv2 = keras.layers.Conv1D(filters=64, kernel_size=3, padding=\"same\")(conv1)\n",
    "    conv2 = keras.layers.BatchNormalization()(conv2)\n",
    "    conv2 = keras.layers.ReLU()(conv2)\n",
    "\n",
    "    conv3 = keras.layers.Conv1D(filters=64, kernel_size=3, padding=\"same\")(conv2)\n",
    "    conv3 = keras.layers.BatchNormalization()(conv3)\n",
    "    conv3 = keras.layers.ReLU()(conv3)\n",
    "\n",
    "    gap = keras.layers.GlobalAveragePooling1D()(conv3)\n",
    "\n",
    "    output_layer = keras.layers.Dense(num_classes, activation=\"softmax\")(gap)\n",
    "\n",
    "    return keras.models.Model(inputs=input_layer, outputs=output_layer)\n",
    "\n",
    "num_classes = len(np.unique(y_train))\n",
    "\n",
    "\n",
    "model = make_model(input_shape=x_train.shape[1:])\n",
    "keras.utils.plot_model(model, show_shapes=True)"
   ]
  },
  {
   "cell_type": "code",
   "execution_count": null,
   "id": "5cd0b156",
   "metadata": {},
   "outputs": [],
   "source": [
    "epochs = 100\n",
    "batch_size = 32\n",
    "\n",
    "callbacks = [\n",
    "    keras.callbacks.ModelCheckpoint(\n",
    "        \"best_model.h5\", save_best_only=True, monitor=\"val_loss\"\n",
    "    ),\n",
    "    keras.callbacks.ReduceLROnPlateau(\n",
    "        monitor=\"val_loss\", factor=0.5, patience=20, min_lr=0.0001\n",
    "    ),\n",
    "    keras.callbacks.EarlyStopping(monitor=\"val_loss\", patience=50, verbose=1),\n",
    "]\n",
    "model.compile(\n",
    "    optimizer=\"adam\",\n",
    "    loss=\"sparse_categorical_crossentropy\",\n",
    "    metrics=[\"sparse_categorical_accuracy\"],\n",
    ")\n",
    "history = model.fit(\n",
    "    x_train,\n",
    "    y_train,\n",
    "    batch_size=batch_size,\n",
    "    epochs=epochs,\n",
    "    callbacks=callbacks,\n",
    "    validation_split=0.2,\n",
    "    verbose=1,\n",
    ")"
   ]
  },
  {
   "cell_type": "code",
   "execution_count": null,
   "id": "2895266f",
   "metadata": {},
   "outputs": [],
   "source": [
    "model = keras.models.load_model(\"best_model.h5\")\n",
    "\n",
    "test_loss, test_acc = model.evaluate(x_test, y_test)\n",
    "\n",
    "print(\"Test accuracy\", test_acc)\n",
    "print(\"Test loss\", test_loss)"
   ]
  },
  {
   "cell_type": "code",
   "execution_count": null,
   "id": "d4d5f241",
   "metadata": {},
   "outputs": [],
   "source": [
    "metric = \"sparse_categorical_accuracy\"\n",
    "plt.figure()\n",
    "plt.plot(history.history[metric])\n",
    "plt.plot(history.history[\"val_\" + metric])\n",
    "plt.title(\"model \" + metric)\n",
    "plt.ylabel(metric, fontsize=\"large\")\n",
    "plt.xlabel(\"epoch\", fontsize=\"large\")\n",
    "plt.legend([\"train\", \"val\"], loc=\"best\")\n",
    "plt.show()\n",
    "plt.close()"
   ]
  },
  {
   "cell_type": "code",
   "execution_count": null,
   "id": "d0f2deb0",
   "metadata": {},
   "outputs": [],
   "source": []
  }
 ],
 "metadata": {
  "kernelspec": {
   "display_name": "Python 3 (ipykernel)",
   "language": "python",
   "name": "python3"
  },
  "language_info": {
   "codemirror_mode": {
    "name": "ipython",
    "version": 3
   },
   "file_extension": ".py",
   "mimetype": "text/x-python",
   "name": "python",
   "nbconvert_exporter": "python",
   "pygments_lexer": "ipython3",
   "version": "3.9.13"
  }
 },
 "nbformat": 4,
 "nbformat_minor": 5
}
