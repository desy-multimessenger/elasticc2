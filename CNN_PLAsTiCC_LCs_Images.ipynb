{
 "cells": [
  {
   "cell_type": "code",
   "execution_count": null,
   "id": "81108667",
   "metadata": {},
   "outputs": [],
   "source": [
    "import numpy as np\n",
    "from tensorflow import keras\n",
    "from tensorflow.keras import layers"
   ]
  },
  {
   "cell_type": "code",
   "execution_count": null,
   "id": "4d32bd5f-a9c3-420c-a9b2-e9704408fb77",
   "metadata": {},
   "outputs": [],
   "source": [
    "data_train = np.load('../data/pixelized_sample.npz')\n",
    "data_labels = np.load('../data/pixelized_sample_class.npz')"
   ]
  },
  {
   "cell_type": "code",
   "execution_count": null,
   "id": "9ca46394-7de2-4197-a000-4e0f937db28e",
   "metadata": {},
   "outputs": [],
   "source": [
    "x_train = data_train['arr_0'][:4000]\n",
    "x_labels = data_labels['arr_0'][:4000]\n"
   ]
  },
  {
   "cell_type": "code",
   "execution_count": null,
   "id": "6ed9bf87-6960-4305-bc7d-7b77a1e7717b",
   "metadata": {},
   "outputs": [],
   "source": [
    "category_mapping = {90: 'SN1a', 67: 'SN1a-91bg', 52: 'SN1ax', 42: 'SN2', 62: 'SN1bc', 95: 'SLSN1', 15: 'TDE', 64: 'KN', 88: 'AGN', 92: 'RRL', 65: 'M-dwarf', 16: 'EB', 53: 'Mira', 6: 'Microlens'}"
   ]
  },
  {
   "cell_type": "code",
   "execution_count": null,
   "id": "6c773812-4aeb-4f59-97a5-cc9c7572b726",
   "metadata": {},
   "outputs": [],
   "source": [
    "y_train = []\n",
    "for i,obj_class in enumerate(x_labels):\n",
    "    #class_ = meta_[meta_['object_id'] == obj_id]['target'].values[0]\n",
    "    \n",
    "    if category_mapping[obj_class] == 'AGN':\n",
    "        y_train.append(1)\n",
    "    else:\n",
    "        y_train.append(0)\n",
    "    \n",
    "y_train = np.array(y_train)"
   ]
  },
  {
   "cell_type": "code",
   "execution_count": null,
   "id": "3eef9390-28f8-4e05-87df-d0ef80b5f6f9",
   "metadata": {},
   "outputs": [],
   "source": [
    "# Model / data parameters\n",
    "num_classes = 2\n",
    "input_shape = (256, 1300, 6)\n",
    "\n",
    "y_train = keras.utils.to_categorical(y_train, num_classes)"
   ]
  },
  {
   "cell_type": "code",
   "execution_count": null,
   "id": "14bf47a9",
   "metadata": {},
   "outputs": [],
   "source": [
    "model = keras.Sequential(\n",
    "    [\n",
    "        keras.Input(shape=input_shape),\n",
    "        layers.Conv2D(32, kernel_size=(30, 30), activation=\"relu\"),\n",
    "        layers.MaxPooling2D(pool_size=(8, 8)),\n",
    "        layers.Conv2D(64, kernel_size=(15, 15), activation=\"relu\"),\n",
    "        layers.MaxPooling2D(pool_size=(4, 4)),\n",
    "        layers.Flatten(),\n",
    "        layers.Dropout(0.5),\n",
    "        layers.Dense(num_classes, activation=\"softmax\"),\n",
    "    ]\n",
    ")\n",
    "\n",
    "model.summary()"
   ]
  },
  {
   "cell_type": "code",
   "execution_count": null,
   "id": "57638d7f",
   "metadata": {},
   "outputs": [],
   "source": [
    "batch_size = 32\n",
    "epochs = 3\n",
    "\n",
    "model.compile(loss=\"categorical_crossentropy\", optimizer=\"adam\", metrics=[\"accuracy\"])\n",
    "\n",
    "model.fit(x_train, y_train, batch_size=batch_size, epochs=epochs, validation_split=0.1)\n",
    "'''\n",
    "callbacks = [\n",
    "    keras.callbacks.ModelCheckpoint(\n",
    "        \"best_model.h5\", save_best_only=True, monitor=\"val_loss\"\n",
    "    ),\n",
    "    keras.callbacks.ReduceLROnPlateau(\n",
    "        monitor=\"val_loss\", factor=0.5, patience=20, min_lr=0.0001\n",
    "    ),\n",
    "    keras.callbacks.EarlyStopping(monitor=\"val_loss\", patience=5, verbose=1),\n",
    "]\n",
    "model.compile(\n",
    "    optimizer=\"adam\",\n",
    "    loss=\"sparse_categorical_crossentropy\",\n",
    "    metrics=[\"sparse_categorical_accuracy\"],\n",
    ")\n",
    "history = model.fit(\n",
    "    x_train,\n",
    "    y_train,\n",
    "    batch_size=batch_size,\n",
    "    epochs=epochs,\n",
    "    callbacks=callbacks,\n",
    "    validation_split=0.2,\n",
    "    verbose=1,\n",
    ")\n",
    "'''"
   ]
  },
  {
   "cell_type": "code",
   "execution_count": null,
   "id": "8f44ca20",
   "metadata": {},
   "outputs": [],
   "source": []
  },
  {
   "cell_type": "code",
   "execution_count": null,
   "id": "9821ed0a-f3c1-47a9-b657-8f55e7fd987c",
   "metadata": {},
   "outputs": [],
   "source": []
  }
 ],
 "metadata": {
  "kernelspec": {
   "display_name": "Python 3 (ipykernel)",
   "language": "python",
   "name": "python3"
  },
  "language_info": {
   "codemirror_mode": {
    "name": "ipython",
    "version": 3
   },
   "file_extension": ".py",
   "mimetype": "text/x-python",
   "name": "python",
   "nbconvert_exporter": "python",
   "pygments_lexer": "ipython3",
   "version": "3.9.13"
  }
 },
 "nbformat": 4,
 "nbformat_minor": 5
}
