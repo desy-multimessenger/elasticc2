{
 "cells": [
  {
   "cell_type": "code",
   "execution_count": 1,
   "id": "81108667",
   "metadata": {},
   "outputs": [],
   "source": [
    "import numpy as np\n",
    "from tensorflow import keras\n",
    "from tensorflow.keras import layers"
   ]
  },
  {
   "cell_type": "code",
   "execution_count": 2,
   "id": "4d32bd5f-a9c3-420c-a9b2-e9704408fb77",
   "metadata": {},
   "outputs": [],
   "source": [
    "data_train = np.load('data/pixelized_sample.npz')\n",
    "data_labels = np.load('data/pixelized_sample_class.npz')"
   ]
  },
  {
   "cell_type": "code",
   "execution_count": 3,
   "id": "9ca46394-7de2-4197-a000-4e0f937db28e",
   "metadata": {},
   "outputs": [],
   "source": [
    "x_train = data_train['arr_0']\n",
    "x_labels = data_labels['arr_0']"
   ]
  },
  {
   "cell_type": "code",
   "execution_count": 4,
   "id": "6ed9bf87-6960-4305-bc7d-7b77a1e7717b",
   "metadata": {},
   "outputs": [],
   "source": [
    "category_mapping = {90: 'SN1a', 67: 'SN1a-91bg', 52: 'SN1ax', 42: 'SN2', 62: 'SN1bc', 95: 'SLSN1', 15: 'TDE', 64: 'KN', 88: 'AGN', 92: 'RRL', 65: 'M-dwarf', 16: 'EB', 53: 'Mira', 6: 'Microlens'}"
   ]
  },
  {
   "cell_type": "code",
   "execution_count": 5,
   "id": "6c773812-4aeb-4f59-97a5-cc9c7572b726",
   "metadata": {},
   "outputs": [],
   "source": [
    "y_train = []\n",
    "for i,obj_class in enumerate(x_labels):\n",
    "    #class_ = meta_[meta_['object_id'] == obj_id]['target'].values[0]\n",
    "    \n",
    "    if category_mapping[obj_class] == 'AGN':\n",
    "        y_train.append(1)\n",
    "    else:\n",
    "        y_train.append(0)\n",
    "    \n",
    "y_train = np.array(y_train)"
   ]
  },
  {
   "cell_type": "code",
   "execution_count": 8,
   "id": "3eef9390-28f8-4e05-87df-d0ef80b5f6f9",
   "metadata": {},
   "outputs": [],
   "source": [
    "# Model / data parameters\n",
    "num_classes = 2\n",
    "input_shape = (256, 1300, 6)\n",
    "\n",
    "y_train = keras.utils.to_categorical(y_train, num_classes)"
   ]
  },
  {
   "cell_type": "code",
   "execution_count": 11,
   "id": "14bf47a9",
   "metadata": {},
   "outputs": [
    {
     "name": "stdout",
     "output_type": "stream",
     "text": [
      "Model: \"sequential\"\n",
      "_________________________________________________________________\n",
      " Layer (type)                Output Shape              Param #   \n",
      "=================================================================\n",
      " conv2d (Conv2D)             (None, 254, 1298, 32)     1760      \n",
      "                                                                 \n",
      " max_pooling2d (MaxPooling2D  (None, 127, 649, 32)     0         \n",
      " )                                                               \n",
      "                                                                 \n",
      " conv2d_1 (Conv2D)           (None, 125, 647, 64)      18496     \n",
      "                                                                 \n",
      " max_pooling2d_1 (MaxPooling  (None, 62, 323, 64)      0         \n",
      " 2D)                                                             \n",
      "                                                                 \n",
      " flatten (Flatten)           (None, 1281664)           0         \n",
      "                                                                 \n",
      " dropout (Dropout)           (None, 1281664)           0         \n",
      "                                                                 \n",
      " dense (Dense)               (None, 2)                 2563330   \n",
      "                                                                 \n",
      "=================================================================\n",
      "Total params: 2,583,586\n",
      "Trainable params: 2,583,586\n",
      "Non-trainable params: 0\n",
      "_________________________________________________________________\n"
     ]
    },
    {
     "name": "stderr",
     "output_type": "stream",
     "text": [
      "2022-06-23 12:01:21.838698: I tensorflow/core/platform/cpu_feature_guard.cc:193] This TensorFlow binary is optimized with oneAPI Deep Neural Network Library (oneDNN) to use the following CPU instructions in performance-critical operations:  AVX2 FMA\n",
      "To enable them in other operations, rebuild TensorFlow with the appropriate compiler flags.\n"
     ]
    }
   ],
   "source": [
    "model = keras.Sequential(\n",
    "    [\n",
    "        keras.Input(shape=input_shape),\n",
    "        layers.Conv2D(32, kernel_size=(3, 3), activation=\"relu\"),\n",
    "        layers.MaxPooling2D(pool_size=(2, 2)),\n",
    "        layers.Conv2D(64, kernel_size=(3, 3), activation=\"relu\"),\n",
    "        layers.MaxPooling2D(pool_size=(2, 2)),\n",
    "        layers.Flatten(),\n",
    "        layers.Dropout(0.5),\n",
    "        layers.Dense(num_classes, activation=\"softmax\"),\n",
    "    ]\n",
    ")\n",
    "\n",
    "model.summary()"
   ]
  },
  {
   "cell_type": "code",
   "execution_count": 12,
   "id": "57638d7f",
   "metadata": {},
   "outputs": [
    {
     "name": "stdout",
     "output_type": "stream",
     "text": [
      "Epoch 1/3\n",
      "4/4 [==============================] - 24s 5s/step - loss: 62.6176 - accuracy: 0.8261 - val_loss: 82.0613 - val_accuracy: 0.8462\n",
      "Epoch 2/3\n",
      "4/4 [==============================] - 21s 5s/step - loss: 36.2692 - accuracy: 0.9130 - val_loss: 14.7818 - val_accuracy: 0.9231\n",
      "Epoch 3/3\n",
      "4/4 [==============================] - 20s 5s/step - loss: 10.5563 - accuracy: 0.8696 - val_loss: 3.4845e-06 - val_accuracy: 1.0000\n"
     ]
    },
    {
     "data": {
      "text/plain": [
       "<keras.callbacks.History at 0x12fee9040>"
      ]
     },
     "execution_count": 12,
     "metadata": {},
     "output_type": "execute_result"
    }
   ],
   "source": [
    "batch_size = 32\n",
    "epochs = 3\n",
    "\n",
    "model.compile(loss=\"categorical_crossentropy\", optimizer=\"adam\", metrics=[\"accuracy\"])\n",
    "\n",
    "model.fit(x_train, y_train, batch_size=batch_size, epochs=epochs, validation_split=0.1)"
   ]
  }
 ],
 "metadata": {
  "kernelspec": {
   "display_name": "Python 3 (ipykernel)",
   "language": "python",
   "name": "python3"
  },
  "language_info": {
   "codemirror_mode": {
    "name": "ipython",
    "version": 3
   },
   "file_extension": ".py",
   "mimetype": "text/x-python",
   "name": "python",
   "nbconvert_exporter": "python",
   "pygments_lexer": "ipython3",
   "version": "3.9.13"
  }
 },
 "nbformat": 4,
 "nbformat_minor": 5
}
